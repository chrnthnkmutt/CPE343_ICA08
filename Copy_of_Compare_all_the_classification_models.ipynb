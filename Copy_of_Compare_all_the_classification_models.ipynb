{
  "metadata": {
    "kernelspec": {
      "language": "python",
      "display_name": "Python 3",
      "name": "python3"
    },
    "language_info": {
      "pygments_lexer": "ipython3",
      "nbconvert_exporter": "python",
      "version": "3.6.4",
      "file_extension": ".py",
      "codemirror_mode": {
        "name": "ipython",
        "version": 3
      },
      "name": "python",
      "mimetype": "text/x-python"
    },
    "colab": {
      "provenance": [],
      "include_colab_link": true
    }
  },
  "nbformat_minor": 0,
  "nbformat": 4,
  "cells": [
    {
      "cell_type": "markdown",
      "metadata": {
        "id": "view-in-github",
        "colab_type": "text"
      },
      "source": [
        "<a href=\"https://colab.research.google.com/github/chrnthnkmutt/CPE343_ICA08/blob/main/Copy_of_Compare_all_the_classification_models.ipynb\" target=\"_parent\"><img src=\"https://colab.research.google.com/assets/colab-badge.svg\" alt=\"Open In Colab\"/></a>"
      ]
    },
    {
      "source": [
        "# IMPORTANT: RUN THIS CELL IN ORDER TO IMPORT YOUR KAGGLE DATA SOURCES,\n",
        "# THEN FEEL FREE TO DELETE THIS CELL.\n",
        "# NOTE: THIS NOTEBOOK ENVIRONMENT DIFFERS FROM KAGGLE'S PYTHON\n",
        "# ENVIRONMENT SO THERE MAY BE MISSING LIBRARIES USED BY YOUR\n",
        "# NOTEBOOK.\n",
        "import kagglehub\n",
        "organizations_uciml_adult_census_income_path = kagglehub.dataset_download('organizations/uciml/adult-census-income')\n",
        "\n",
        "print('Data source import complete.')\n"
      ],
      "metadata": {
        "id": "PTOlEoQHIRas"
      },
      "cell_type": "code",
      "outputs": [],
      "execution_count": null
    },
    {
      "cell_type": "markdown",
      "source": [
        "# 1. Introduction\n",
        "A census is the procedure of systematically acquiring and recording information about the members of a given population.\n",
        "The census is a special, wide-range activity, which takes place once a decade in the entire country. The purpose is to gather information about the general population, in order to present a full and reliable picture of the population in the country - its housing conditions and demographic, social and economic characteristics. The information collected includes data on age, gender, country of origin, marital status, housing conditions, marriage, education, employment, etc."
      ],
      "metadata": {
        "id": "1NIQjv-5IRat"
      }
    },
    {
      "cell_type": "markdown",
      "source": [
        "## 1.1  Data description\n",
        "This data was extracted from the 1994 Census bureau database by Ronny Kohavi and Barry Becker (Data Mining and Visualization, Silicon Graphics).  The prediction task is to determine whether a person makes over $50K a year."
      ],
      "metadata": {
        "id": "zyTYgCVQIRat"
      }
    },
    {
      "cell_type": "markdown",
      "source": [
        "## 1.2 Features Description\n",
        "**1. Categorical Attributes**\n",
        " * **workclass**:  Private, Self-emp-not-inc, Self-emp-inc, Federal-gov, Local-gov, State-gov, Without-pay, Never-worked.\n",
        "  -  Individual work category  \n",
        " * **education**: Bachelors, Some-college, 11th, HS-grad, Prof-school, Assoc-acdm, Assoc-voc, 9th, 7th-8th, 12th, Masters, 1st-4th, 10th, Doctorate, 5th-6th, Preschool.\n",
        "  -  Individual's highest education degree  \n",
        " * **marital-status**: Married-civ-spouse, Divorced, Never-married, Separated, Widowed, Married-spouse-absent, Married-AF-spouse.\n",
        "  -  Individual marital status  \n",
        " * **occupation**:  Tech-support, Craft-repair, Other-service, Sales, Exec-managerial, Prof-specialty, Handlers-cleaners, Machine-op-inspct, Adm-clerical, Farming-fishing, Transport-moving, Priv-house-serv, Protective-serv, Armed-Forces.\n",
        "  -  Individual's occupation  \n",
        " * **relationship**:  Wife, Own-child, Husband, Not-in-family, Other-relative, Unmarried.\n",
        "  -  Individual's relation in a family   \n",
        " * **race**:  White, Asian-Pac-Islander, Amer-Indian-Eskimo, Other, Black.\n",
        "  -  Race of Individual   \n",
        " * **sex**:  Female, Male.\n",
        " * **native-country**:  United-States, Cambodia, England, Puerto-Rico, Canada, Germany, Outlying-US(Guam-USVI-etc), India, Japan, Greece, South, China, Cuba, Iran, Honduras, Philippines, Italy, Poland, Jamaica, Vietnam, Mexico, Portugal, Ireland, France, Dominican-Republic, Laos, Ecuador, Taiwan, Haiti, Columbia, Hungary, Guatemala, Nicaragua, Scotland, Thailand, Yugoslavia, El-Salvador, Trinadad&Tobago, Peru, Hong, Holand-Netherlands.\n",
        "  -  Individual's native country   \n",
        "  \n",
        "**2. Continuous Attributes**\n",
        " * **age**: continuous.\n",
        "  -  Age of an individual  \n",
        " * **fnlwgt**: final weight, continuous.\n",
        " * The weights on the CPS files are controlled to independent estimates of the civilian noninstitutional population of the US.  These are prepared monthly for us by Population Division here at the Census Bureau.\n",
        " * **capital-gain**: continuous.\n",
        " * **capital-loss**: continuous.\n",
        " * **hours-per-week**: continuous.\n",
        "  -  Individual's working hour per week   "
      ],
      "metadata": {
        "id": "v27SWHrlIRat"
      }
    },
    {
      "cell_type": "markdown",
      "source": [
        "## 1.3 Objective of this project\n",
        "The goal of this machine learning project is to predict whether a person makes over 50K a year or not given their demographic variation. This is a classification problem."
      ],
      "metadata": {
        "id": "dj5BhkkIIRau"
      }
    },
    {
      "cell_type": "markdown",
      "source": [
        "# 2. Import packages"
      ],
      "metadata": {
        "id": "tK0arUvAIRau"
      }
    },
    {
      "cell_type": "code",
      "source": [
        "import numpy as np\n",
        "import pandas as pd\n",
        "import seaborn as sns\n",
        "import warnings\n",
        "warnings.filterwarnings(\"ignore\")\n",
        "import plotly.offline as py\n",
        "import plotly.graph_objs as go\n",
        "import plotly.tools as tls\n",
        "import matplotlib.pyplot as plt\n",
        "%matplotlib inline"
      ],
      "metadata": {
        "trusted": true,
        "id": "4Gtc7Vs9IRau"
      },
      "execution_count": null,
      "outputs": []
    },
    {
      "cell_type": "code",
      "source": [
        "from sklearn.model_selection import train_test_split,cross_val_score,GridSearchCV\n",
        "from sklearn.linear_model import LogisticRegression\n",
        "from sklearn.tree import DecisionTreeClassifier\n",
        "from sklearn.svm import SVC\n",
        "from sklearn.neighbors import KNeighborsClassifier\n",
        "from sklearn.ensemble import RandomForestClassifier,AdaBoostClassifier,BaggingClassifier,ExtraTreesClassifier\n",
        "from sklearn.naive_bayes import GaussianNB\n",
        "from sklearn.discriminant_analysis import LinearDiscriminantAnalysis\n",
        "from sklearn.ensemble import AdaBoostClassifier\n",
        "from sklearn.ensemble import GradientBoostingClassifier\n",
        "from sklearn.ensemble import RandomForestClassifier\n",
        "from sklearn.ensemble import ExtraTreesClassifier\n",
        "from sklearn.metrics import accuracy_score,confusion_matrix,roc_auc_score\n",
        "from sklearn import metrics\n",
        "from datetime import datetime\n",
        "from sklearn.feature_selection import RFE\n",
        "from sklearn.model_selection import StratifiedKFold"
      ],
      "metadata": {
        "trusted": true,
        "id": "xqqtV24FIRau"
      },
      "execution_count": null,
      "outputs": []
    },
    {
      "cell_type": "markdown",
      "source": [
        "## Load Data"
      ],
      "metadata": {
        "id": "3fGnOltXIRau"
      }
    },
    {
      "cell_type": "code",
      "source": [
        "data = pd.read_csv(\"../input/adult-census-income/adult.csv\")\n",
        "data.head()"
      ],
      "metadata": {
        "trusted": true,
        "id": "8kj7IYUbIRau"
      },
      "execution_count": null,
      "outputs": []
    },
    {
      "cell_type": "code",
      "source": [
        "data.shape"
      ],
      "metadata": {
        "trusted": true,
        "id": "Uv4vwI5cIRau"
      },
      "execution_count": null,
      "outputs": []
    },
    {
      "cell_type": "markdown",
      "source": [
        "# 3. Data Cleaning"
      ],
      "metadata": {
        "id": "TTzmNCLCIRau"
      }
    },
    {
      "cell_type": "markdown",
      "source": [
        "Fixing the common nan values\n",
        "\n",
        "    Nan values were as ? in data. Hence we fix this with most frequent element(mode) in the entire dataset. It generalizes well, as we will see with the accuracy of our classifiers"
      ],
      "metadata": {
        "id": "Bd5Rd2bHIRau"
      }
    },
    {
      "cell_type": "code",
      "source": [
        "attrib, counts = np.unique(data['workclass'], return_counts = True)\n",
        "most_freq_attrib = attrib[np.argmax(counts, axis = 0)]\n",
        "data['workclass'][data['workclass'] == '?'] = most_freq_attrib\n",
        "\n",
        "attrib, counts = np.unique(data['occupation'], return_counts = True)\n",
        "most_freq_attrib = attrib[np.argmax(counts, axis = 0)]\n",
        "data['occupation'][data['occupation'] == '?'] = most_freq_attrib\n",
        "\n",
        "attrib, counts = np.unique(data['native.country'], return_counts = True)\n",
        "most_freq_attrib = attrib[np.argmax(counts, axis = 0)]\n",
        "data['native.country'][data['native.country'] == '?'] = most_freq_attrib"
      ],
      "metadata": {
        "trusted": true,
        "id": "m17Vr7qsIRav"
      },
      "execution_count": null,
      "outputs": []
    },
    {
      "cell_type": "markdown",
      "source": [
        "Lets look the data it again :"
      ],
      "metadata": {
        "id": "ozWm2HG2IRav"
      }
    },
    {
      "cell_type": "code",
      "source": [
        "# for later use\n",
        "data_num = data.copy()\n",
        "data1 = data.copy()\n",
        "data.head(10)"
      ],
      "metadata": {
        "trusted": true,
        "id": "L5vW3DszIRav"
      },
      "execution_count": null,
      "outputs": []
    },
    {
      "cell_type": "markdown",
      "source": [
        "# 4. Feature Engineering"
      ],
      "metadata": {
        "id": "rPq3IuQRIRav"
      }
    },
    {
      "cell_type": "markdown",
      "source": [
        "Education\n",
        "\n",
        "    9th, 10th, 11th, 12th comes under HighSchool Grad but it has mentioned separately\n",
        "    Create Elementary object for 1st-4th, 5th-6th, 7th-8th\n",
        "\n",
        "Marital Status\n",
        "\n",
        "    \n",
        "    Married-civ-spouse,Married-spouse-absent,Married-AF-spouse comes under category Married\n",
        "    Divorced, separated again comes under category separated.\n",
        "\n",
        "Workclass\n",
        "\n",
        "    Self-emp-not-inc, Self-emp-inc comes under category self employed\n",
        "    Local-gov,State-gov,Federal-gov comes under category goverment emloyees\n"
      ],
      "metadata": {
        "id": "xiB_-HwQIRav"
      }
    },
    {
      "cell_type": "code",
      "source": [
        "hs_grad = ['HS-grad','11th','10th','9th','12th']\n",
        "elementary = ['1st-4th','5th-6th','7th-8th']\n",
        "\n",
        "# replace elements in list.\n",
        "data1['education'].replace(to_replace = hs_grad,value = 'HS-grad',inplace = True)\n",
        "data1['education'].replace(to_replace = elementary,value = 'elementary_school',inplace = True)\n",
        "\n",
        "data1['education'].value_counts()"
      ],
      "metadata": {
        "trusted": true,
        "id": "q-HDZXp5IRav"
      },
      "execution_count": null,
      "outputs": []
    },
    {
      "cell_type": "code",
      "source": [
        "married= ['Married-spouse-absent','Married-civ-spouse','Married-AF-spouse']\n",
        "separated = ['Separated','Divorced']\n",
        "\n",
        "#replace elements in list.\n",
        "data1['marital.status'].replace(to_replace = married ,value = 'Married',inplace = True)\n",
        "data1['marital.status'].replace(to_replace = separated,value = 'Separated',inplace = True)\n",
        "\n",
        "data1['marital.status'].value_counts()"
      ],
      "metadata": {
        "trusted": true,
        "id": "xGwo47q4IRav"
      },
      "execution_count": null,
      "outputs": []
    },
    {
      "cell_type": "code",
      "source": [
        "self_employed = ['Self-emp-not-inc','Self-emp-inc']\n",
        "govt_employees = ['Local-gov','State-gov','Federal-gov']\n",
        "\n",
        "#replace elements in list.\n",
        "data1['workclass'].replace(to_replace = self_employed ,value = 'Self_employed',inplace = True)\n",
        "data1['workclass'].replace(to_replace = govt_employees,value = 'Govt_employees',inplace = True)\n",
        "\n",
        "data1['workclass'].value_counts()"
      ],
      "metadata": {
        "trusted": true,
        "id": "ZT5b9-8XIRav"
      },
      "execution_count": null,
      "outputs": []
    },
    {
      "cell_type": "markdown",
      "source": [
        "### Deleting the unuseful features and observations"
      ],
      "metadata": {
        "id": "_moQWJjiIRav"
      }
    },
    {
      "cell_type": "code",
      "source": [
        "del_cols = ['education.num']\n",
        "data1.drop(labels = del_cols,axis = 1,inplace = True)"
      ],
      "metadata": {
        "trusted": true,
        "id": "lqLhlGuPIRav"
      },
      "execution_count": null,
      "outputs": []
    },
    {
      "cell_type": "markdown",
      "source": [
        "### Updating the columns"
      ],
      "metadata": {
        "id": "Rdl3ZUEIIRav"
      }
    },
    {
      "cell_type": "code",
      "source": [
        "num_col_new = ['age','capital.gain', 'capital.loss',\n",
        "       'hours.per.week','fnlwgt']\n",
        "cat_col_new = ['workclass', 'education', 'marital.status', 'occupation','relationship',\n",
        "               'race', 'sex', 'income']"
      ],
      "metadata": {
        "trusted": true,
        "id": "oEDvjqt1IRaw"
      },
      "execution_count": null,
      "outputs": []
    },
    {
      "cell_type": "markdown",
      "source": [
        "# 5. Pipeline"
      ],
      "metadata": {
        "id": "6pch2gSHIRaw"
      }
    },
    {
      "cell_type": "code",
      "source": [
        "from sklearn.pipeline import Pipeline\n",
        "from sklearn.base import TransformerMixin\n",
        "from sklearn.preprocessing import MinMaxScaler,StandardScaler\n",
        "\n",
        "scaler = MinMaxScaler()\n",
        "pd.DataFrame(scaler.fit_transform(data1[num_col_new]),columns = num_col_new).head(5)"
      ],
      "metadata": {
        "trusted": true,
        "id": "vzbVYReOIRaw"
      },
      "execution_count": null,
      "outputs": []
    },
    {
      "cell_type": "code",
      "source": [
        "class DataFrameSelector(TransformerMixin):\n",
        "    def __init__(self,attribute_names):\n",
        "        self.attribute_names = attribute_names\n",
        "\n",
        "    def fit(self,X,y = None):\n",
        "        return self\n",
        "\n",
        "    def transform(self,X):\n",
        "        return X[self.attribute_names]\n",
        "\n",
        "\n",
        "class num_trans(TransformerMixin):\n",
        "    def __init__(self):\n",
        "        pass\n",
        "\n",
        "    def fit(self,X,y=None):\n",
        "        return self\n",
        "\n",
        "    def transform(self,X):\n",
        "        df = pd.DataFrame(X)\n",
        "        df.columns = num_col_new\n",
        "        return df\n",
        "\n",
        "\n",
        "\n",
        "pipeline = Pipeline([('selector',DataFrameSelector(num_col_new)),\n",
        "                     ('scaler',MinMaxScaler()),\n",
        "                    ('transform',num_trans())])"
      ],
      "metadata": {
        "trusted": true,
        "id": "Qi8IGuG0IRaw"
      },
      "execution_count": null,
      "outputs": []
    },
    {
      "cell_type": "code",
      "source": [
        "num_df = pipeline.fit_transform(data1)\n",
        "num_df.shape"
      ],
      "metadata": {
        "trusted": true,
        "id": "aCkmogynIRaw"
      },
      "execution_count": null,
      "outputs": []
    },
    {
      "cell_type": "code",
      "source": [
        "# columns which I don't need after creating dummy variables dataframe\n",
        "cols = ['workclass_Govt_employess','education_Some-college',\n",
        "        'marital-status_Never-married','occupation_Other-service',\n",
        "        'race_Black','sex_Male','income_>50K']"
      ],
      "metadata": {
        "trusted": true,
        "id": "zFzDVie4IRaw"
      },
      "execution_count": null,
      "outputs": []
    },
    {
      "cell_type": "code",
      "source": [
        "class dummies(TransformerMixin):\n",
        "    def __init__(self,cols):\n",
        "        self.cols = cols\n",
        "\n",
        "    def fit(self,X,y = None):\n",
        "        return self\n",
        "\n",
        "    def transform(self,X):\n",
        "        df = pd.get_dummies(X)\n",
        "        df_new = df[df.columns.difference(cols)]\n",
        "#difference returns the original columns, with the columns passed as argument removed.\n",
        "        return df_new\n",
        "\n",
        "pipeline_cat=Pipeline([('selector',DataFrameSelector(cat_col_new)),\n",
        "                      ('dummies',dummies(cols))])\n",
        "cat_df = pipeline_cat.fit_transform(data1)\n",
        "cat_df.shape"
      ],
      "metadata": {
        "trusted": true,
        "id": "xl_rOhMeIRaw"
      },
      "execution_count": null,
      "outputs": []
    },
    {
      "cell_type": "code",
      "source": [
        "cat_df['id'] = pd.Series(range(cat_df.shape[0]))\n",
        "num_df['id'] = pd.Series(range(num_df.shape[0]))"
      ],
      "metadata": {
        "trusted": true,
        "id": "9lFwDVaXIRaw"
      },
      "execution_count": null,
      "outputs": []
    },
    {
      "cell_type": "code",
      "source": [
        "final_df = pd.merge(cat_df,num_df,how = 'inner', on = 'id')\n",
        "print(f\"Number of observations in final dataset: {final_df.shape}\")"
      ],
      "metadata": {
        "trusted": true,
        "id": "855Yu53CIRax"
      },
      "execution_count": null,
      "outputs": []
    },
    {
      "cell_type": "markdown",
      "source": [
        "## 5.2 Split the dataset¶"
      ],
      "metadata": {
        "id": "uTgTnpVaIRax"
      }
    },
    {
      "cell_type": "code",
      "source": [
        "y = final_df['income_<=50K']\n",
        "final_df.drop(labels = ['id','income_<=50K','fnlwgt'],axis = 1,inplace = True)\n",
        "X = final_df"
      ],
      "metadata": {
        "trusted": true,
        "id": "RLKVKGkLIRax"
      },
      "execution_count": null,
      "outputs": []
    },
    {
      "cell_type": "markdown",
      "source": [
        "## 5.3 Take a look to Income class distribution"
      ],
      "metadata": {
        "id": "mf5PjUIgIRax"
      }
    },
    {
      "cell_type": "code",
      "source": [
        "sns.countplot(x=\"income\", data= data)\n",
        "plt.show()\n",
        "data[\"income\"].value_counts()"
      ],
      "metadata": {
        "trusted": true,
        "id": "JJmD5sf4IRax"
      },
      "execution_count": null,
      "outputs": []
    },
    {
      "cell_type": "markdown",
      "source": [
        "### Implementating model on imbalanced data"
      ],
      "metadata": {
        "id": "HukMmKeuIRax"
      }
    },
    {
      "cell_type": "code",
      "source": [
        "X_train1,X_test1,y_train1,y_test1 = train_test_split(X,y,test_size =0.15,random_state = 42)\n",
        "#fitting the model\n",
        "lr=LogisticRegression()\n",
        "lr.fit(X_train1,y_train1)\n",
        "# predict\n",
        "y_pred4=lr.predict(X_test1)\n",
        "print(\"Accuracy:\",metrics.accuracy_score(y_test1, y_pred4))\n",
        "print(\"Precision:\",metrics.precision_score(y_test1, y_pred4))\n",
        "print(\"Recall:\",metrics.recall_score(y_test1, y_pred4))\n",
        "print(\"F1 score:\",metrics.f1_score(y_test1, y_pred4))\n",
        "print(\"AUC :\",metrics.roc_auc_score(y_test1, y_pred4))"
      ],
      "metadata": {
        "trusted": true,
        "id": "63JxfEErIRax"
      },
      "execution_count": null,
      "outputs": []
    },
    {
      "cell_type": "markdown",
      "source": [
        "## 5.4 Resampling\n",
        "\n",
        "The main idea of sampling classes is to either increasing the samples of the minority class or decreasing the samples of the majority class. This is done in order to obtain a fair balance in the number of instances for both the classes.\n",
        "\n",
        "There can be two main types of sampling:\n",
        "\n",
        "    You can add copies of instances from the minority class which is called over-sampling (or more formally sampling with replacement), or\n",
        "    You can delete instances from the majority class, which is called under-sampling.\n",
        "\n",
        "\n",
        "A widely adopted technique for dealing with highly unbalanced datasets is called resampling. It consists of removing samples from the majority class (under-sampling) and / or adding more examples from the minority class (over-sampling).\n",
        "\n",
        "Despite the advantage of balancing classes, these techniques also have their weaknesses (there is no free lunch). The simplest implementation of over-sampling is to duplicate random records from the minority class, which can cause overfitting. In under-sampling, the simplest technique involves removing random records from the majority class, which can cause loss of information.\n",
        "\n",
        "**Under-sampling**\n",
        "\n",
        "Advantages of this approach:\n",
        "\n",
        "    It can help improve the runtime of the model and solve the memory problems by reducing the number of training data samples when the training data set is enormous."
      ],
      "metadata": {
        "id": "u3B_sjvwIRa5"
      }
    },
    {
      "cell_type": "code",
      "source": [
        "from imblearn.under_sampling import RandomUnderSampler\n",
        "\n",
        "rus = RandomUnderSampler()\n",
        "X_rus, y_rus = rus.fit_sample(X, y)"
      ],
      "metadata": {
        "trusted": true,
        "id": "5TL2fIdEIRa5"
      },
      "execution_count": null,
      "outputs": []
    },
    {
      "cell_type": "code",
      "source": [
        "X_rus = pd.DataFrame(X_rus)\n",
        "X_rus.columns = ['education_Assoc-acdm', 'education_Assoc-voc', 'education_Bachelors',\n",
        "       'education_Doctorate', 'education_HS-grad', 'education_Masters',\n",
        "       'education_Preschool', 'education_Prof-school',\n",
        "       'education_elementary_school', 'gender_Female',\n",
        "       'marital-status_Married', 'marital-status_Separated',\n",
        "       'marital-status_Widowed', 'occupation_Adm-clerical',\n",
        "       'occupation_Armed-Forces', 'occupation_Craft-repair',\n",
        "       'occupation_Exec-managerial', 'occupation_Farming-fishing',\n",
        "       'occupation_Handlers-cleaners', 'occupation_Machine-op-inspct',\n",
        "       'occupation_Priv-house-serv', 'occupation_Prof-specialty',\n",
        "       'occupation_Protective-serv', 'occupation_Sales',\n",
        "       'occupation_Tech-support', 'occupation_Transport-moving',\n",
        "       'race_Amer-Indian-Eskimo', 'race_Asian-Pac-Islander', 'race_Other',\n",
        "       'race_White', 'relationship_Husband', 'relationship_Not-in-family',\n",
        "       'relationship_Other-relative', 'relationship_Own-child',\n",
        "       'relationship_Unmarried', 'relationship_Wife',\n",
        "       'workclass_Govt_employees', 'workclass_Never-worked',\n",
        "       'workclass_Private', 'workclass_Self_employed', 'workclass_Without-pay',\n",
        "       'age', 'capital-gain', 'capital-loss', 'hours-per-week']\n",
        "y_rus = pd.DataFrame(y_rus)\n",
        "y_rus.columns = [\"income\"]"
      ],
      "metadata": {
        "trusted": true,
        "id": "cHmeCOKfIRa5"
      },
      "execution_count": null,
      "outputs": []
    },
    {
      "cell_type": "code",
      "source": [
        "sns.countplot(x=y_rus[\"income\"])\n",
        "plt.show()\n"
      ],
      "metadata": {
        "trusted": true,
        "id": "Vy3KjDZDIRa5"
      },
      "execution_count": null,
      "outputs": []
    },
    {
      "cell_type": "code",
      "source": [
        "X_train,X_test,y_train,y_test = train_test_split(X_rus,y_rus,test_size =0.15,random_state = 42)"
      ],
      "metadata": {
        "trusted": true,
        "id": "4AkDqb1tIRa6"
      },
      "execution_count": null,
      "outputs": []
    },
    {
      "cell_type": "markdown",
      "source": [
        "## 5.5 Baseline models"
      ],
      "metadata": {
        "id": "oV06jWu3IRa6"
      }
    },
    {
      "cell_type": "code",
      "source": [
        "# Spot-Check Algorithms\n",
        "def GetBasedModel():\n",
        "    basedModels = []\n",
        "    basedModels.append(('LR'   , LogisticRegression()))\n",
        "    basedModels.append(('LDA'  , LinearDiscriminantAnalysis()))\n",
        "    basedModels.append(('KNN'  , KNeighborsClassifier()))\n",
        "    basedModels.append(('CART' , DecisionTreeClassifier()))\n",
        "    basedModels.append(('NB'   , GaussianNB()))\n",
        "    basedModels.append(('AB'   , AdaBoostClassifier()))\n",
        "    basedModels.append(('GBM'  , GradientBoostingClassifier()))\n",
        "    basedModels.append(('RF'   , RandomForestClassifier()))\n",
        "    basedModels.append(('ET'   , ExtraTreesClassifier()))\n",
        "\n",
        "\n",
        "    return basedModels"
      ],
      "metadata": {
        "trusted": true,
        "id": "Fr6tbB1jIRa6"
      },
      "execution_count": null,
      "outputs": []
    },
    {
      "cell_type": "code",
      "source": [
        "def BasedLine2(X_train, y_train,models):\n",
        "    # Test options and evaluation metric\n",
        "    num_folds = 3\n",
        "    scoring = 'accuracy'\n",
        "\n",
        "    results = []\n",
        "    names = []\n",
        "    for name, model in models:\n",
        "        kfold = StratifiedKFold(n_splits=num_folds, random_state=10)\n",
        "        cv_results = cross_val_score(model, X_train, y_train, cv=kfold, scoring=scoring)\n",
        "        results.append(cv_results)\n",
        "        names.append(name)\n",
        "        msg = \"%s: %f (%f)\" % (name, cv_results.mean(), cv_results.std())\n",
        "        print(msg)\n",
        "\n",
        "    return names,results"
      ],
      "metadata": {
        "trusted": true,
        "id": "uNYpKwSxIRa6"
      },
      "execution_count": null,
      "outputs": []
    },
    {
      "cell_type": "code",
      "source": [
        "models = GetBasedModel()\n",
        "names,results = BasedLine2(X_train, y_train,models)"
      ],
      "metadata": {
        "scrolled": true,
        "trusted": true,
        "id": "uC2QqZFGIRa6"
      },
      "execution_count": null,
      "outputs": []
    },
    {
      "cell_type": "markdown",
      "source": [
        "## 5.6 Models Scores"
      ],
      "metadata": {
        "id": "hgLR5IFWIRa6"
      }
    },
    {
      "cell_type": "code",
      "source": [
        "def ScoreDataFrame(names,results):\n",
        "    def floatingDecimals(f_val, dec=3):\n",
        "        prc = \"{:.\"+str(dec)+\"f}\"\n",
        "\n",
        "        return float(prc.format(f_val))\n",
        "\n",
        "    scores = []\n",
        "    for r in results:\n",
        "        scores.append(floatingDecimals(r.mean(),4))\n",
        "\n",
        "    scoreDataFrame = pd.DataFrame({'Model':names, 'Score': scores})\n",
        "    return scoreDataFrame\n",
        "basedLineScore = ScoreDataFrame(names,results)\n",
        "basedLineScore.sort_values(by='Score', ascending=False)"
      ],
      "metadata": {
        "trusted": true,
        "id": "CB9GOB_OIRa6"
      },
      "execution_count": null,
      "outputs": []
    },
    {
      "cell_type": "markdown",
      "source": [
        "# 6. Tuning Machine Learning Models"
      ],
      "metadata": {
        "id": "aqeU56okIRa6"
      }
    },
    {
      "cell_type": "code",
      "source": [],
      "metadata": {
        "id": "45hKLiHEIibF"
      },
      "execution_count": null,
      "outputs": []
    },
    {
      "cell_type": "markdown",
      "source": [
        "## 6.1 Logistic Regression"
      ],
      "metadata": {
        "id": "mY6j8lXYIRa6"
      }
    },
    {
      "cell_type": "markdown",
      "source": [
        "**Logistic Regression is used when the dependent variable(target) is categorical.**\n",
        "\n",
        "**Model**\n",
        "\n",
        "Output = 0 or 1\n",
        "\n",
        "Hypothesis => Z = WX + B\n",
        "\n",
        "hΘ(x) = sigmoid (Z)\n",
        "\n",
        "**Sigmoid Function**\n",
        "\n",
        "If ‘Z’ goes to infinity, Y(predicted) will become 1 and if ‘Z’ goes to negative infinity, Y(predicted) will become 0.\n",
        "\n",
        "**Cost Function**"
      ],
      "metadata": {
        "id": "7yxGC7kMIRa6"
      }
    },
    {
      "cell_type": "markdown",
      "source": [
        "## Hyperparameter Tuning\n",
        "A hyperparameter is a parameter whose value is set before the learning process begins.\n",
        "Tuning Strategies\n",
        "\n",
        "We will explore two different methods for optimizing hyperparameters:\n",
        "\n",
        "    Grid Search\n",
        "    Random Search"
      ],
      "metadata": {
        "id": "UUh2V9_2IRa6"
      }
    },
    {
      "cell_type": "markdown",
      "source": [
        "### Grid Search vs Random search\n",
        "\n",
        "**Grid search** is a traditional way to perform hyperparameter optimization. It works by searching exhaustively through a specified subset of hyperparameters.\n",
        "\n",
        "**Random search** differs from grid search mainly in that it searches the specified subset of hyperparameters randomly instead of exhaustively. The major benefit being decreased processing time.\n",
        "\n",
        "* There is a tradeoff to decreased processing time, however. We aren’t guaranteed to find the optimal combination of hyperparameters."
      ],
      "metadata": {
        "id": "xIqGBVKvIRa7"
      }
    },
    {
      "cell_type": "markdown",
      "source": [
        "### Grid Search"
      ],
      "metadata": {
        "id": "kflid0I-IRa7"
      }
    },
    {
      "cell_type": "code",
      "source": [
        "%%time\n",
        "from sklearn.model_selection import GridSearchCV\n",
        "lr = LogisticRegression(class_weight='balanced',random_state=42)\n",
        "param_grid = {\n",
        "    'C': [0.1,0.2,0.3,0.4],\n",
        "    'penalty': ['l1', 'l2'],\n",
        "    'class_weight':[{0: 1, 1: 1},{ 0:0.67, 1:0.33 },{ 0:0.75, 1:0.25 },{ 0:0.8, 1:0.2 }]}\n",
        "CV_rfc = GridSearchCV(estimator=lr, param_grid=param_grid, cv= 5)\n",
        "CV_rfc.fit(X_train, y_train)\n",
        "print(CV_rfc.best_params_)"
      ],
      "metadata": {
        "trusted": true,
        "id": "vBoiNwIXIRa7"
      },
      "execution_count": null,
      "outputs": []
    },
    {
      "cell_type": "markdown",
      "source": [
        "**C : Inverse of regularization strength**\n",
        "\n",
        "we use paramter C as our regularization parameter. Parameter C = 1/λ.\n",
        "\n",
        "Lambda (λ) controls the trade-off between allowing the model to increase it's complexity as much as it wants with trying to keep it simple. For example, if λ is very low or 0, the model will have enough power to increase it's complexity (overfit) by assigning big values to the weights for each parameter. If, in the other hand, we increase the value of λ, the model will tend to underfit, as the model will become too simple.\n",
        "\n",
        "* Parameter C will work the other way around. For small values of C, we increase the regularization strength which will create simple models which underfit the data. For big values of C, we low the power of regularization which imples the model is allowed to increase it's complexity, and therefore, overfit the data.\n",
        "\n",
        "**L2 Regularization or Ridge Regularization**\n",
        "\n",
        "* Ridge regression adds “squared magnitude” of coefficient as penalty term to the loss function. Here the highlighted part represents L2 regularization element.\n",
        "\n",
        "**L1 Regularization or Lasso**\n",
        "\n",
        "* Lasso Regression (Least Absolute Shrinkage and Selection Operator) adds “absolute value of magnitude” of coefficient as penalty term to the loss function.\n",
        "\n",
        "The key difference between these techniques is that Lasso shrinks the less important feature’s coefficient to zero thus, removing some feature altogether. So, this works well for feature selection in case we have a huge number of features.\n",
        "\n",
        "**Class weight**\n",
        "\n",
        "* If we have highly imbalanced classes and have no addressed it during preprocessing, we have the option of using the class_weight parameter to weight the classes to make certain we have a balanced mix of each class. Class weights will be given by n_samples / (n_classes * np.bincount(y))"
      ],
      "metadata": {
        "id": "m0_ZxJvNIRa7"
      }
    },
    {
      "cell_type": "code",
      "source": [
        "%%time\n",
        "#fitting the model\n",
        "lr1=LogisticRegression(C=0.4, random_state=4 ,penalty='l1', class_weight={0:1,1:1})\n",
        "lr1.fit(X_train,y_train)\n",
        "# predict\n",
        "y_pred1=lr1.predict(X_test)"
      ],
      "metadata": {
        "trusted": true,
        "id": "W9P14bACIRa7"
      },
      "execution_count": null,
      "outputs": []
    },
    {
      "cell_type": "markdown",
      "source": [
        "### Evaluation of logistic regression(Grid Search)\n",
        "**Confusion Matrix**"
      ],
      "metadata": {
        "id": "MNuirhzrIRa7"
      }
    },
    {
      "cell_type": "code",
      "source": [
        "cf_matrix = confusion_matrix(y_test, y_pred1)\n",
        "sns.heatmap(pd.DataFrame(cf_matrix), annot=True, cmap=\"YlGnBu\" ,fmt='g')\n",
        "plt.tight_layout()\n",
        "plt.title('Confusion matrix', y=1.1)\n",
        "plt.ylabel('Actual label')\n",
        "plt.xlabel('Predicted label')\n",
        "plt.show()"
      ],
      "metadata": {
        "trusted": true,
        "id": "ef4Sv0tcIRa7"
      },
      "execution_count": null,
      "outputs": []
    },
    {
      "cell_type": "code",
      "source": [
        "print(\"Accuracy:\",metrics.accuracy_score(y_test, y_pred1))\n",
        "print(\"Precision:\",metrics.precision_score(y_test, y_pred1))\n",
        "print(\"Recall:\",metrics.recall_score(y_test, y_pred1))\n",
        "print(\"F1 score:\",metrics.f1_score(y_test, y_pred1))\n",
        "print(\"AUC :\",metrics.roc_auc_score(y_test, y_pred1))"
      ],
      "metadata": {
        "trusted": true,
        "id": "8eHrO-wmIRa7"
      },
      "execution_count": null,
      "outputs": []
    },
    {
      "cell_type": "markdown",
      "source": [
        "**Precision:**\n",
        "Precision is about being precise, i.e., how accurate your model is. In other words, you can say, when a model makes a prediction, how often it is correct.\n",
        "Precision can be thought of as a measure of a classifier's exactness.\n",
        "\n",
        "**Recall:**\n",
        "Out of all the positive classes, how much we predicted correctly. It should be high as possible.\n",
        "Recall can be thought of as a measure of a classifier's completeness.\n",
        "\n",
        "**F1 score**\n",
        "It is difficult to compare two models with low precision and high recall or vice versa. So to make them comparable, we use F-Score.\n",
        "\n",
        "F-score helps to measure Recall and Precision at the same time. It uses Harmonic Mean in place of Arithmetic Mean by punishing the extreme values more."
      ],
      "metadata": {
        "id": "BuccS7_sIRa7"
      }
    },
    {
      "cell_type": "markdown",
      "source": [
        "### ROC Curve"
      ],
      "metadata": {
        "id": "e07jt3S1IRa7"
      }
    },
    {
      "cell_type": "markdown",
      "source": [
        "An ROC curve (receiver operating characteristic curve) is a graph showing the performance of a classification model at all classification thresholds. This curve plots two parameters:\n",
        "\n",
        "    True Positive Rate\n",
        "    False Positive Rate"
      ],
      "metadata": {
        "id": "gx7KZtccIRa7"
      }
    },
    {
      "cell_type": "code",
      "source": [
        "fpr, tpr, _ = metrics.roc_curve(y_test,  y_pred1)\n",
        "auc = metrics.roc_auc_score(y_test, y_pred1)\n",
        "plt.plot(fpr,tpr,label=\"data 1, auc=\"+str(auc))\n",
        "plt.legend(loc=4)\n",
        "plt.plot([0, 1], [0, 1],'r--')\n",
        "plt.xlabel('False Positive Rate')\n",
        "plt.ylabel('True Positive Rate')\n",
        "plt.title('Receiver operating characteristic')\n",
        "plt.show()"
      ],
      "metadata": {
        "trusted": true,
        "id": "tcx6wMysIRa8"
      },
      "execution_count": null,
      "outputs": []
    },
    {
      "cell_type": "markdown",
      "source": [
        "### Random search"
      ],
      "metadata": {
        "id": "72_4jULYIRa8"
      }
    },
    {
      "cell_type": "code",
      "source": [
        "%%time\n",
        "from sklearn.model_selection import RandomizedSearchCV\n",
        "lr = LogisticRegression(class_weight='balanced',random_state=42)\n",
        "param_grid = {\n",
        "    'C': [0.1,0.2,0.3,0.4],\n",
        "    'penalty': ['l1', 'l2'],\n",
        "    'class_weight':[{0: 1, 1: 1},{ 0:0.67, 1:0.33 },{ 0:0.75, 1:0.25 },{ 0:0.8, 1:0.2 }]}\n",
        "CV_rfc = RandomizedSearchCV(estimator=lr, param_distributions=param_grid, cv= 5,random_state=1)\n",
        "CV_rfc.fit(X_train, y_train)\n",
        "print(CV_rfc.best_params_)\n"
      ],
      "metadata": {
        "trusted": true,
        "id": "pS1k-YM1IRa8"
      },
      "execution_count": null,
      "outputs": []
    },
    {
      "cell_type": "code",
      "source": [
        "%%time\n",
        "#fitting the model\n",
        "lr2=LogisticRegression(C=0.3, random_state=4 ,penalty='l2', class_weight={0:1,1:1})\n",
        "lr2.fit(X_train,y_train)\n",
        "# predict\n",
        "y_pred2=lr2.predict(X_test)"
      ],
      "metadata": {
        "trusted": true,
        "id": "OKXN1yQ9IRa8"
      },
      "execution_count": null,
      "outputs": []
    },
    {
      "cell_type": "markdown",
      "source": [
        "### Evaluation of logistic regression(Random Search)"
      ],
      "metadata": {
        "id": "-Zpe5pOiIRa8"
      }
    },
    {
      "cell_type": "markdown",
      "source": [
        "#### Confusion Matrix"
      ],
      "metadata": {
        "id": "t4vyaKtmIRa8"
      }
    },
    {
      "cell_type": "code",
      "source": [
        "cf_matrix = confusion_matrix(y_test, y_pred2)\n",
        "sns.heatmap(pd.DataFrame(cf_matrix), annot=True, cmap=\"YlGnBu\" ,fmt='g')\n",
        "plt.tight_layout()\n",
        "plt.title('Confusion matrix', y=1.1)\n",
        "plt.ylabel('Actual label')\n",
        "plt.xlabel('Predicted label')\n",
        "plt.show()"
      ],
      "metadata": {
        "trusted": true,
        "id": "6K4GM0n3IRa8"
      },
      "execution_count": null,
      "outputs": []
    },
    {
      "cell_type": "code",
      "source": [
        "print(\"Accuracy:\",metrics.accuracy_score(y_test, y_pred2))\n",
        "print(\"Precision:\",metrics.precision_score(y_test, y_pred2))\n",
        "print(\"Recall:\",metrics.recall_score(y_test, y_pred2))\n",
        "print(\"F1 score:\",metrics.f1_score(y_test, y_pred2))\n",
        "print(\"AUC :\",metrics.roc_auc_score(y_test, y_pred2))"
      ],
      "metadata": {
        "trusted": true,
        "id": "ak4LjymGIRa8"
      },
      "execution_count": null,
      "outputs": []
    },
    {
      "cell_type": "code",
      "source": [
        "fpr, tpr, _ = metrics.roc_curve(y_test,  y_pred2)\n",
        "auc = metrics.roc_auc_score(y_test, y_pred2)\n",
        "plt.plot(fpr,tpr,label=\"data 1, auc=\"+str(auc))\n",
        "plt.legend(loc=4)\n",
        "plt.plot([0, 1], [0, 1],'r--')\n",
        "plt.xlabel('False Positive Rate')\n",
        "plt.ylabel('True Positive Rate')\n",
        "plt.title('Receiver operating characteristic')\n",
        "plt.show()"
      ],
      "metadata": {
        "trusted": true,
        "id": "vvwImHYTIRa8"
      },
      "execution_count": null,
      "outputs": []
    },
    {
      "cell_type": "markdown",
      "source": [
        "## Recursive Feature Elimination"
      ],
      "metadata": {
        "id": "A4uf6tN7IRa8"
      }
    },
    {
      "cell_type": "markdown",
      "source": [
        "* The Recursive Feature Elimination (or RFE) works by recursively removing attributes and building a model on those attributes that remain.\n",
        "* It uses the model accuracy to identify which attributes (and combination of attributes) contribute the most to predicting the target attribute.\n",
        "* As the name suggests, this method eliminates worst performing features on a particular model one after the other until the best subset of features are known."
      ],
      "metadata": {
        "id": "f-FPdv-AIRa8"
      }
    },
    {
      "cell_type": "code",
      "source": [
        "%%time\n",
        "from sklearn.feature_selection import RFE\n",
        "\n",
        "# feature extraction\n",
        "lr = LogisticRegression()\n",
        "rfe = RFE(lr, 15)\n",
        "lr3 = rfe.fit(X_train, y_train)\n",
        "\n",
        "print(\"Num Features: \", lr3.n_features_)\n",
        "print(\"Selected Features: \",  lr3.support_)\n",
        "print(\"Feature Ranking: \", lr3.ranking_)"
      ],
      "metadata": {
        "trusted": true,
        "id": "AqWmBcQkIRa8"
      },
      "execution_count": null,
      "outputs": []
    },
    {
      "cell_type": "markdown",
      "source": [
        "**Features sorted by their rank:**"
      ],
      "metadata": {
        "id": "K_mqf8c5IRa8"
      }
    },
    {
      "cell_type": "code",
      "source": [
        "feature = list(X_train.columns.values)\n",
        "print(sorted(zip(map(lambda x: round(x, 4), lr3.ranking_), feature)))\n"
      ],
      "metadata": {
        "trusted": true,
        "id": "-qwLsXV6IRa9"
      },
      "execution_count": null,
      "outputs": []
    },
    {
      "cell_type": "code",
      "source": [
        "\n",
        "X_train_f = X_train[['age','capital-gain','capital-loss','education_Bachelors','education_Doctorate','education_Masters',\n",
        "                     'education_Preschool','education_Prof-school','education_elementary_school',\n",
        "                     'hours-per-week','occupation_Priv-house-serv','relationship_Not-in-family','relationship_Other-relative'\n",
        "                     ,'relationship_Own-child','relationship_Unmarried']]\n",
        "\n",
        "X_test_f = X_test[['age','capital-gain','capital-loss','education_Bachelors','education_Doctorate','education_Masters',\n",
        "                     'education_Preschool','education_Prof-school','education_elementary_school',\n",
        "                     'hours-per-week','occupation_Priv-house-serv','relationship_Not-in-family','relationship_Other-relative'\n",
        "                     ,'relationship_Own-child','relationship_Unmarried']]\n",
        "\n",
        "lr4=LogisticRegression(C=0.4, random_state=4 ,penalty='l2', class_weight={0:1,1:1})\n",
        "%time lr4.fit(X_train_f,y_train)"
      ],
      "metadata": {
        "trusted": true,
        "id": "O_99vH-EIRa9"
      },
      "execution_count": null,
      "outputs": []
    },
    {
      "cell_type": "code",
      "source": [
        "# predict\n",
        "y_pred4=lr4.predict(X_test_f)\n",
        "cf_matrix = confusion_matrix(y_test, y_pred4)\n",
        "sns.heatmap(pd.DataFrame(cf_matrix), annot=True, cmap=\"YlGnBu\" ,fmt='g')\n",
        "plt.tight_layout()\n",
        "plt.title('Confusion matrix', y=1.1)\n",
        "plt.ylabel('Actual label')\n",
        "plt.xlabel('Predicted label')\n",
        "plt.show()\n",
        "\n",
        "print(\"Accuracy:\",metrics.accuracy_score(y_test, y_pred4))\n",
        "print(\"Precision:\",metrics.precision_score(y_test, y_pred4))\n",
        "print(\"Recall:\",metrics.recall_score(y_test, y_pred4))\n",
        "print(\"F1 score:\",metrics.f1_score(y_test, y_pred4))\n",
        "print(\"AUC :\",metrics.roc_auc_score(y_test, y_pred4))\n",
        "\n",
        "fpr, tpr, _ = metrics.roc_curve(y_test,  y_pred4)\n",
        "auc = metrics.roc_auc_score(y_test, y_pred4)\n",
        "plt.plot(fpr,tpr,label=\"data 1, auc=\"+str(auc))\n",
        "plt.legend(loc=4)\n",
        "plt.plot([0, 1], [0, 1],'r--')\n",
        "plt.xlabel('False Positive Rate')\n",
        "plt.ylabel('True Positive Rate')\n",
        "plt.title('Receiver operating characteristic')\n",
        "plt.show()"
      ],
      "metadata": {
        "trusted": true,
        "id": "w9ioPJQSIRa9"
      },
      "execution_count": null,
      "outputs": []
    },
    {
      "cell_type": "markdown",
      "source": [
        "## PCA analysis\n",
        "Principal Component Analysis (or PCA) uses linear algebra to transform the dataset into a compressed form.\n",
        "\n",
        "Generally this is called a data reduction technique. A property of PCA is that you can choose the number of dimensions or principal component in the transformed result.\n",
        "\n",
        "In this case we will use it to analyse the feature importanace"
      ],
      "metadata": {
        "id": "X3DhwEZWIRa9"
      }
    },
    {
      "cell_type": "code",
      "source": [
        "from sklearn.preprocessing import StandardScaler\n",
        "X_std = StandardScaler().fit_transform(X_train)\n",
        "\n",
        "\n",
        "from sklearn.decomposition import PCA as sklearnPCA\n",
        "\n",
        "sklearn_pca = sklearnPCA(n_components=39)\n",
        "Y_sklearn = sklearn_pca.fit_transform(X_std)\n",
        "\n",
        "cum_sum = sklearn_pca.explained_variance_ratio_.cumsum()\n",
        "\n",
        "sklearn_pca.explained_variance_ratio_[:10].sum()\n",
        "\n",
        "cum_sum = cum_sum*100\n",
        "\n",
        "fig, ax = plt.subplots(figsize=(8,8))\n",
        "plt.bar(range(39), cum_sum, label='Cumulative _Sum_of_Explained _Varaince', color = 'b',alpha=0.5)"
      ],
      "metadata": {
        "trusted": true,
        "id": "yTMSohz-IRa9"
      },
      "execution_count": null,
      "outputs": []
    },
    {
      "cell_type": "code",
      "source": [
        "#Cumulative explained variance\n",
        "from sklearn.decomposition import PCA\n",
        "pca = PCA(39)\n",
        "pca_full = pca.fit(X)\n",
        "\n",
        "plt.plot(np.cumsum(pca_full.explained_variance_ratio_))\n",
        "plt.xlabel('# of components')\n",
        "plt.ylabel('Cumulative explained variance')"
      ],
      "metadata": {
        "trusted": true,
        "id": "6E1yfGNAIRa9"
      },
      "execution_count": null,
      "outputs": []
    },
    {
      "cell_type": "code",
      "source": [
        "%%time\n",
        "# 26 Principal Components seems good\n",
        "pca = PCA(n_components=26)\n",
        "X_transformed = pca.fit_transform(X_train)\n",
        "\n",
        "X_train_pca, X_test_pca, y_train_pca, y_test_pca = train_test_split(\n",
        "    X_transformed, y_train, test_size=0.2, random_state=13)\n",
        "\n",
        "lr5=LogisticRegression(C=0.4, random_state=4 ,penalty='l1', class_weight={0:1,1:1})\n",
        "lr5.fit(X_train_pca, y_train_pca)\n",
        "\n",
        "# predict\n",
        "y_pred =lr5.predict(X_test_pca)\n",
        "\n",
        "cf_matrix = confusion_matrix(y_test_pca, y_pred)\n",
        "sns.heatmap(pd.DataFrame(cf_matrix), annot=True, cmap=\"YlGnBu\" ,fmt='g')\n",
        "plt.tight_layout()\n",
        "plt.title('Confusion matrix', y=1.1)\n",
        "plt.ylabel('Actual label')\n",
        "plt.xlabel('Predicted label')\n",
        "plt.show()\n",
        "\n",
        "print(\"Accuracy:\",metrics.accuracy_score(y_test_pca, y_pred))\n",
        "print(\"Precision:\",metrics.precision_score(y_test_pca, y_pred))\n",
        "print(\"Recall:\",metrics.recall_score(y_test_pca, y_pred))\n",
        "print(\"F1 score:\",metrics.f1_score(y_test_pca, y_pred))\n",
        "print(\"AUC :\",metrics.roc_auc_score(y_test_pca, y_pred))\n",
        "\n",
        "fpr, tpr, _ = metrics.roc_curve(y_test_pca,  y_pred)\n",
        "auc = metrics.roc_auc_score(y_test_pca, y_pred)\n",
        "plt.plot(fpr,tpr,label=\"data 1, auc=\"+str(auc))\n",
        "plt.legend(loc=4)\n",
        "plt.plot([0, 1], [0, 1],'r--')\n",
        "plt.xlabel('False Positive Rate')\n",
        "plt.ylabel('True Positive Rate')\n",
        "plt.title('Receiver operating characteristic')\n",
        "plt.show()"
      ],
      "metadata": {
        "trusted": true,
        "id": "9U7EzZdUIRa9"
      },
      "execution_count": null,
      "outputs": []
    },
    {
      "cell_type": "markdown",
      "source": [
        "# Feature Importance"
      ],
      "metadata": {
        "id": "8YjF7tRkIRa9"
      }
    },
    {
      "cell_type": "code",
      "source": [
        "data1 = pd.DataFrame(X,y)\n",
        "\n",
        "clf = ExtraTreesClassifier(n_estimators=250,\n",
        "                              random_state=2)\n",
        "\n",
        "clf.fit(X_train, y_train)\n",
        "\n",
        "\n",
        "# Plot feature importance\n",
        "feature_importance = clf.feature_importances_\n",
        "# make importances relative to max importance\n",
        "feature_importance = 100.0 * (feature_importance / feature_importance.max())\n",
        "sorted_idx = np.argsort(feature_importance)\n",
        "pos = np.arange(sorted_idx.shape[0]) + .5\n",
        "plt.figure(figsize=(10,10))\n",
        "plt.barh(pos, feature_importance[sorted_idx], align='center')\n",
        "plt.yticks(pos, data1.columns[sorted_idx])\n",
        "plt.xlabel('Relative Importance')\n",
        "plt.title('Variable Importance')\n",
        "plt.show()"
      ],
      "metadata": {
        "trusted": true,
        "id": "TqMe86sCIRa9"
      },
      "execution_count": null,
      "outputs": []
    },
    {
      "cell_type": "code",
      "source": [
        "X_train_ef = X_train[['race_Asian-Pac-Islander','education_Assoc-voc', 'workclass_Govt_employees','occupation_Craft-repair',\n",
        "       'education_Doctorate','workclass_Self_employed', 'occupation_Adm-clerical','occupation_Sales', 'education_Prof-school',\n",
        "       'workclass_Private','race_White', 'occupation_Prof-specialty', 'relationship_Unmarried','marital-status_Separated', 'education_elementary_school',\n",
        "       'education_Masters', 'relationship_Wife', 'education_Bachelors','capital-loss', 'occupation_Exec-managerial', 'gender_Female',\n",
        "       'relationship_Not-in-family', 'education_HS-grad','relationship_Own-child', 'capital-gain', 'relationship_Husband',\n",
        "       'marital-status_Married', 'hours-per-week', 'age']]\n",
        "\n",
        "X_test_ef = X_test[['race_Asian-Pac-Islander','education_Assoc-voc', 'workclass_Govt_employees',\n",
        "       'occupation_Craft-repair', 'education_Doctorate','workclass_Self_employed', 'occupation_Adm-clerical',\n",
        "       'occupation_Sales', 'education_Prof-school', 'workclass_Private','race_White', 'occupation_Prof-specialty', 'relationship_Unmarried',\n",
        "       'marital-status_Separated', 'education_elementary_school','education_Masters', 'relationship_Wife', 'education_Bachelors',\n",
        "       'capital-loss', 'occupation_Exec-managerial', 'gender_Female','relationship_Not-in-family', 'education_HS-grad',\n",
        "       'relationship_Own-child', 'capital-gain', 'relationship_Husband','marital-status_Married', 'hours-per-week', 'age']]"
      ],
      "metadata": {
        "trusted": true,
        "id": "8nNWVBOeIRa9"
      },
      "execution_count": null,
      "outputs": []
    },
    {
      "cell_type": "code",
      "source": [
        "%%time\n",
        "lr5=LogisticRegression(C=0.4, random_state=4 ,penalty='l1', class_weight={0:1,1:1})\n",
        "lr5.fit(X_train_ef, y_train)\n",
        "\n",
        "# predict\n",
        "y_pred =lr5.predict(X_test_ef)\n",
        "\n",
        "cf_matrix = confusion_matrix(y_test, y_pred)\n",
        "sns.heatmap(pd.DataFrame(cf_matrix), annot=True, cmap=\"YlGnBu\" ,fmt='g')\n",
        "plt.tight_layout()\n",
        "plt.title('Confusion matrix', y=1.1)\n",
        "plt.ylabel('Actual label')\n",
        "plt.xlabel('Predicted label')\n",
        "plt.show()\n",
        "\n",
        "print(\"Accuracy:\",metrics.accuracy_score(y_test, y_pred))\n",
        "print(\"Precision:\",metrics.precision_score(y_test, y_pred))\n",
        "print(\"Recall:\",metrics.recall_score(y_test, y_pred))\n",
        "print(\"F1 score:\",metrics.f1_score(y_test, y_pred))\n",
        "print(\"AUC :\",metrics.roc_auc_score(y_test, y_pred))\n",
        "\n",
        "fpr, tpr, _ = metrics.roc_curve(y_test,  y_pred)\n",
        "auc = metrics.roc_auc_score(y_test, y_pred)\n",
        "plt.plot(fpr,tpr,label=\"data 1, auc=\"+str(auc))\n",
        "plt.legend(loc=4)\n",
        "plt.plot([0, 1], [0, 1],'r--')\n",
        "plt.xlabel('False Positive Rate')\n",
        "plt.ylabel('True Positive Rate')\n",
        "plt.title('Receiver operating characteristic')\n",
        "plt.show()"
      ],
      "metadata": {
        "trusted": true,
        "id": "MuiGJg-GIRa9"
      },
      "execution_count": null,
      "outputs": []
    },
    {
      "cell_type": "markdown",
      "source": [
        "### Grid Search"
      ],
      "metadata": {
        "id": "WzCrqUF9IRa-"
      }
    },
    {
      "cell_type": "code",
      "source": [
        "class GridSearch(object):\n",
        "\n",
        "    def __init__(self,X_train,y_train,model,hyperparameters):\n",
        "\n",
        "        self.X_train = X_train\n",
        "        self.y_train = y_train\n",
        "        self.model = model\n",
        "        self.hyperparameters = hyperparameters\n",
        "\n",
        "    def GridSearch(self):\n",
        "        # Create randomized search 10-fold cross validation and 100 iterations\n",
        "        cv = 10\n",
        "        clf = GridSearchCV(self.model,\n",
        "                                 self.hyperparameters,\n",
        "                                 cv=cv,\n",
        "                                 verbose=0,\n",
        "                                 n_jobs=-1\n",
        "                                 )\n",
        "        # Fit randomized search\n",
        "        best_model = clf.fit(self.X_train, self.y_train)\n",
        "        message = (best_model.best_score_, best_model.best_params_)\n",
        "        print(\"Best: %f using %s\" % (message))\n",
        "\n",
        "        return best_model,best_model.best_params_\n",
        "\n",
        "    def Best_Model_Predict(self,X_test):\n",
        "\n",
        "        best_model,_ = self.GridSearch()\n",
        "        pred = best_model.predict(X_test)\n",
        "        return pred"
      ],
      "metadata": {
        "trusted": true,
        "id": "nojUgLrtIRa-"
      },
      "execution_count": null,
      "outputs": []
    },
    {
      "cell_type": "markdown",
      "source": [
        "### Random Search"
      ],
      "metadata": {
        "id": "LDVCJEc_IRa-"
      }
    },
    {
      "cell_type": "code",
      "source": [
        "from scipy.stats import uniform\n",
        "\n",
        "class RandomSearch(object):\n",
        "\n",
        "    def __init__(self,X_train,y_train,model,hyperparameters):\n",
        "\n",
        "        self.X_train = X_train\n",
        "        self.y_train = y_train\n",
        "        self.model = model\n",
        "        self.hyperparameters = hyperparameters\n",
        "\n",
        "    def RandomSearch(self):\n",
        "        # Create randomized search 10-fold cross validation and 100 iterations\n",
        "        cv = 10\n",
        "        clf = RandomizedSearchCV(self.model,\n",
        "                                 self.hyperparameters,\n",
        "                                 random_state=1,\n",
        "                                 n_iter=100,\n",
        "                                 cv=cv,\n",
        "                                 verbose=0,\n",
        "                                 n_jobs=-1\n",
        "                                 )\n",
        "        # Fit randomized search\n",
        "        best_model = clf.fit(self.X_train, self.y_train)\n",
        "        message = (best_model.best_score_, best_model.best_params_)\n",
        "        print(\"Best: %f using %s\" % (message))\n",
        "\n",
        "        return best_model,best_model.best_params_\n",
        "\n",
        "    def Best_Model_Predict(self,X_test):\n",
        "\n",
        "        best_model,_ = self.RandomSearch()\n",
        "        pred = best_model.predict(X_test)\n",
        "        return pred"
      ],
      "metadata": {
        "trusted": true,
        "id": "7NOx51izIRa-"
      },
      "execution_count": null,
      "outputs": []
    },
    {
      "cell_type": "markdown",
      "source": [
        "# 6.2 KNN"
      ],
      "metadata": {
        "id": "7kJRAsWGIRa-"
      }
    },
    {
      "cell_type": "markdown",
      "source": [
        "**kNN is non-parametric, instance based, lazy algorithm and used in the supervised setting.**\n",
        "\n",
        "* Non-parametric :\n",
        "      \n",
        "      It means that algorithm has no pre assumptions about the functional form of the model, to avoid mismodeling .\n",
        "\n",
        "* Instance based :\n",
        "      \n",
        "      It means that our algorithm does not explicitly learn a model.\n",
        "      Instead, it memorize the training instances which are subsequently used as “knowledge” for the prediction.\n",
        "\n",
        "* Lazy algorithm :\n",
        "\n",
        "      It means that it does not use the training data for the Generalization i.e. these algorithm has no explicit training phase or it is minimal. Training is very fast.\n",
        "      \n",
        "**kNN Algorithm for Classification**\n",
        "\n",
        "Training element {xi, yi} , Testing point(x)\n",
        "\n",
        "    Compute the Distance D(x,xi) to every training element xi.\n",
        "    Select k closest instance xi1,xi2,…….., xik and their labels yi1, yi2 …, yik.\n",
        "    Output the class y* which is most frequent in yi1,yi2 ……yik.\n",
        "    \n",
        "\n",
        "\n",
        "**Significant of “k”**\n",
        "\n",
        "    Value of k has strong effect on kNN performance.\n",
        "    k act as controller to decide the shape of decision boundary.\n",
        "    Large value of k has following properties:\n",
        "\n",
        " 1. Smoother decision boundary\n",
        " 2. It provide more voters for prediction, it implies less affect from outliers.\n",
        " 3. As a result has Lower Variance and High Bias.\n",
        "\n",
        "**How to Select k**\n",
        "\n",
        "    The simplest solution is Cross Validation.\n",
        "    Best method is to try many k values and use Cross-Validation to see which k value is giving the best result.\n"
      ],
      "metadata": {
        "id": "Yj2YATVaIRa-"
      }
    },
    {
      "cell_type": "code",
      "source": [
        "%%time\n",
        "k_range = list(range(2,15))\n",
        "d_metric = ['euclidean','minkowski']\n",
        "\n",
        "param_grid = dict(n_neighbors = k_range, metric =d_metric)\n",
        "\n",
        "knn = KNeighborsClassifier()\n",
        "\n",
        "KNN_GridSearch = GridSearch(X_train_f, y_train, knn ,param_grid)\n",
        "y_pred = KNN_GridSearch.Best_Model_Predict(X_test_f)"
      ],
      "metadata": {
        "trusted": true,
        "id": "PoEm5J7FIRa-"
      },
      "execution_count": null,
      "outputs": []
    },
    {
      "cell_type": "code",
      "source": [
        "cf_matrix = confusion_matrix(y_test, y_pred)\n",
        "sns.heatmap(pd.DataFrame(cf_matrix), annot=True, cmap=\"YlGnBu\" ,fmt='g')\n",
        "plt.tight_layout()\n",
        "plt.title('Confusion matrix', y=1.1)\n",
        "plt.ylabel('Actual label')\n",
        "plt.xlabel('Predicted label')\n",
        "plt.show()\n",
        "\n",
        "print(\"Accuracy:\",metrics.accuracy_score(y_test, y_pred))\n",
        "print(\"Precision:\",metrics.precision_score(y_test, y_pred))\n",
        "print(\"Recall:\",metrics.recall_score(y_test, y_pred))\n",
        "print(\"F1 score:\",metrics.f1_score(y_test, y_pred))\n",
        "print(\"AUC :\",metrics.roc_auc_score(y_test, y_pred))\n",
        "\n",
        "fpr, tpr, _ = metrics.roc_curve(y_test,  y_pred)\n",
        "auc = metrics.roc_auc_score(y_test, y_pred)\n",
        "plt.plot(fpr,tpr,label=\"data 1, auc=\"+str(auc))\n",
        "plt.legend(loc=4)\n",
        "plt.plot([0, 1], [0, 1],'r--')\n",
        "plt.xlabel('False Positive Rate')\n",
        "plt.ylabel('True Positive Rate')\n",
        "plt.title('Receiver operating characteristic')\n",
        "plt.show()"
      ],
      "metadata": {
        "trusted": true,
        "id": "wZ7WesELIRa-"
      },
      "execution_count": null,
      "outputs": []
    },
    {
      "cell_type": "markdown",
      "source": [
        "# 6.3 SVM (Support Vector Machine)"
      ],
      "metadata": {
        "id": "X1G1ChdkIRa-"
      }
    },
    {
      "cell_type": "markdown",
      "source": [
        "**What is a Support Vector Machine**\n",
        "A Support Vector Machine is a supervised machine learning algorithm which can be used for both classification and regression problems. It follows a technique called the kernel trick to transform the data and based on these transformations, it finds an optimal boundary between the possible outputs.\n",
        "\n",
        "**How does it work?**\n",
        "The main idea is to identify the optimal separating hyperplane which maximizes the margin of the training data.\n",
        "\n",
        "The goal of SVMs is to find the optimal hyperplane because it not only classifies the existing dataset but also helps predict the class of the unseen data. And the optimal hyperplane is the one which has the biggest margin."
      ],
      "metadata": {
        "id": "gJytLNgbIRa-"
      }
    },
    {
      "cell_type": "code",
      "source": [
        "%%time\n",
        "param_grid = [{'gamma': [ 0.1, 1, 10],'C': [ 0.10, 10, 100]}]\n",
        "\n",
        "svm = SVC()\n",
        "\n",
        "svm_GridSearch = GridSearch(X_train_f, y_train, svm,param_grid )\n",
        "y_pred = svm_GridSearch.Best_Model_Predict(X_test_f)\n"
      ],
      "metadata": {
        "trusted": true,
        "id": "vHcsAJOLIRa-"
      },
      "execution_count": null,
      "outputs": []
    },
    {
      "cell_type": "markdown",
      "source": [
        "**Kernel**\n",
        "\n",
        "kernel parameters selects the type of hyperplane used to separate the data. Using ‘linear’ will use a linear hyperplane (a line in the case of 2D data). ‘rbf’ and ‘poly’ uses a non linear hyper-plane.\n",
        "\n",
        "**gamma**\n",
        "\n",
        "gamma is a parameter for non linear hyperplanes. The higher the gamma value it tries to exactly fit the training data set.  Increasing gamma leads to overfitting as the classifier tries to perfectly fit the training data.\n",
        "\n",
        "**C**\n",
        "\n",
        "C is the penalty parameter of the error term. It controls the trade off between smooth decision boundary and classifying the training points correctly.\n",
        "A smaller C value leads to a wider street but more margin violations"
      ],
      "metadata": {
        "id": "rDHd2dsnIRa-"
      }
    },
    {
      "cell_type": "code",
      "source": [
        "cf_matrix = confusion_matrix(y_test, y_pred)\n",
        "sns.heatmap(pd.DataFrame(cf_matrix), annot=True, cmap=\"YlGnBu\" ,fmt='g')\n",
        "plt.tight_layout()\n",
        "plt.title('Confusion matrix', y=1.1)\n",
        "plt.ylabel('Actual label')\n",
        "plt.xlabel('Predicted label')\n",
        "plt.show()\n",
        "\n",
        "print(\"Accuracy:\",metrics.accuracy_score(y_test, y_pred))\n",
        "print(\"Precision:\",metrics.precision_score(y_test, y_pred))\n",
        "print(\"Recall:\",metrics.recall_score(y_test, y_pred))\n",
        "print(\"F1 score:\",metrics.f1_score(y_test, y_pred))\n",
        "print(\"AUC :\",metrics.roc_auc_score(y_test, y_pred))\n",
        "\n",
        "fpr, tpr, _ = metrics.roc_curve(y_test,  y_pred)\n",
        "auc = metrics.roc_auc_score(y_test, y_pred)\n",
        "plt.plot(fpr,tpr,label=\"data 1, auc=\"+str(auc))\n",
        "plt.legend(loc=4)\n",
        "plt.plot([0, 1], [0, 1],'r--')\n",
        "plt.xlabel('False Positive Rate')\n",
        "plt.ylabel('True Positive Rate')\n",
        "plt.title('Receiver operating characteristic')\n",
        "plt.show()"
      ],
      "metadata": {
        "trusted": true,
        "id": "HtesBTkkIRa_"
      },
      "execution_count": null,
      "outputs": []
    },
    {
      "cell_type": "markdown",
      "source": [
        "# 6.4 LDA\n",
        "\n",
        "* Linear Discriminant Analysis (LDA) is most commonly used as dimensionality reduction technique in the pre-processing step for pattern-classification and machine learning applications.\n",
        "\n",
        "* The goal is to project a dataset onto a lower-dimensional space with good class-separability in order avoid overfitting (“curse of dimensionality”) and also reduce computational costs.\n",
        "\n",
        "In general, dimensionality reduction does not only help reducing computational costs for a given classification task, but it can also be helpful to avoid overfitting by minimizing the error in parameter estimation (“curse of dimensionality”)."
      ],
      "metadata": {
        "id": "7YHBhBmyIRa_"
      }
    },
    {
      "cell_type": "code",
      "source": [
        "%%time\n",
        "param_grid = [{'n_components': [1,2,3,4]}]\n",
        "\n",
        "lda = LinearDiscriminantAnalysis()\n",
        "\n",
        "lda_GridSearch = GridSearch(X_train, y_train, lda , param_grid )\n",
        "y_pred = lda_GridSearch.Best_Model_Predict(X_test)"
      ],
      "metadata": {
        "trusted": true,
        "id": "Srv0NeB1IRa_"
      },
      "execution_count": null,
      "outputs": []
    },
    {
      "cell_type": "code",
      "source": [
        "cf_matrix = confusion_matrix(y_test, y_pred)\n",
        "sns.heatmap(pd.DataFrame(cf_matrix), annot=True, cmap=\"YlGnBu\" ,fmt='g')\n",
        "plt.tight_layout()\n",
        "plt.title('Confusion matrix', y=1.1)\n",
        "plt.ylabel('Actual label')\n",
        "plt.xlabel('Predicted label')\n",
        "plt.show()\n",
        "\n",
        "print(\"Accuracy:\",metrics.accuracy_score(y_test, y_pred))\n",
        "print(\"Precision:\",metrics.precision_score(y_test, y_pred))\n",
        "print(\"Recall:\",metrics.recall_score(y_test, y_pred))\n",
        "print(\"F1 score:\",metrics.f1_score(y_test, y_pred))\n",
        "print(\"AUC :\",metrics.roc_auc_score(y_test, y_pred))\n",
        "\n",
        "fpr, tpr, _ = metrics.roc_curve(y_test,  y_pred)\n",
        "auc = metrics.roc_auc_score(y_test, y_pred)\n",
        "plt.plot(fpr,tpr,label=\"data 1, auc=\"+str(auc))\n",
        "plt.legend(loc=4)\n",
        "plt.plot([0, 1], [0, 1],'r--')\n",
        "plt.xlabel('False Positive Rate')\n",
        "plt.ylabel('True Positive Rate')\n",
        "plt.title('Receiver operating characteristic')\n",
        "plt.show()"
      ],
      "metadata": {
        "trusted": true,
        "id": "sNUVbPHeIRa_"
      },
      "execution_count": null,
      "outputs": []
    },
    {
      "cell_type": "markdown",
      "source": [
        "# 6.5 Decision Tree"
      ],
      "metadata": {
        "id": "UTc8BGwhIRa_"
      }
    },
    {
      "cell_type": "markdown",
      "source": [
        "**Introduction to Decision Trees**\n",
        "\n",
        "* A decision tree is a decision support tool that uses a tree-like graph or model of decisions and their possible consequences, including chance event outcomes, resource costs, and utility. It is one way to display an algorithm that only contains conditional control statements.\n",
        "\n",
        "**How does Decision Tree works ?**\n",
        "\n",
        "* Decision tree is a type of supervised learning algorithm (having a pre-defined target variable) that is mostly used in classification problems. It works for both categorical and continuous input and output variables. In this technique, we split the population or sample into two or more homogeneous sets (or sub-populations) based on most significant splitter / differentiator in input variables.\n",
        "\n",
        "The core algorithm for building decision trees called ID3 by J. R. Quinlan which employs a top-down, greedy search through the space of possible branches with no backtracking. ID3 uses Entropy and Information Gain to construct a decision tree.\n",
        "\n",
        "**The popular attribute selection measures:**\n",
        "\n",
        "    Information gain\n",
        "    Gini index\n",
        "\n",
        "\n",
        "**Advantages of CART**\n",
        "\n",
        "    Simple to understand, interpret, visualize.\n",
        "    Decision trees implicitly perform variable screening or feature selection.\n",
        "    Can handle both numerical and categorical data. Can also handle multi-output problems.\n",
        "    Decision trees require relatively little effort from users for data preparation.\n",
        "    Nonlinear relationships between parameters do not affect tree performance.\n",
        "    \n",
        "**Disadvantages of CART**\n",
        "\n",
        "    Decision-tree learners can create over-complex trees that do not generalize the data well.This is called overfitting.\n",
        "    Decision trees can be unstable because small variations in the data might result in a completely different tree being generated. This is called variance, which needs to be lowered by methods like bagging and boosting."
      ],
      "metadata": {
        "id": "2F2cqJoaIRa_"
      }
    },
    {
      "cell_type": "markdown",
      "source": [
        "### Implemention of Decision Tree"
      ],
      "metadata": {
        "id": "oszwKIw6IRa_"
      }
    },
    {
      "cell_type": "code",
      "source": [
        "%%time\n",
        "from scipy.stats import randint\n",
        "max_depth_value = [4, 5,6,7,8,9,10,11,12,13]\n",
        "max_features_value =  randint(1, 7)\n",
        "min_samples_leaf_value = randint(1, 4)\n",
        "criterion_value = [\"gini\", \"entropy\"]\n",
        "\n",
        "param_grid = dict(max_depth = max_depth_value,\n",
        "                  max_features = max_features_value,\n",
        "                  min_samples_leaf = min_samples_leaf_value,\n",
        "                  criterion = criterion_value)\n",
        "\n",
        "CART = DecisionTreeClassifier(random_state=1)\n",
        "\n",
        "CART_RandSearch = RandomSearch(X_train_f, y_train, CART, param_grid)\n",
        "Prediction_CART = CART_RandSearch.Best_Model_Predict(X_test_f)\n"
      ],
      "metadata": {
        "trusted": true,
        "id": "lWm7frNdIRa_"
      },
      "execution_count": null,
      "outputs": []
    },
    {
      "cell_type": "markdown",
      "source": [
        "####  How does a tree decide where to split?\n",
        "\n",
        "Decision tree splits the nodes on all available variables and then selects the split which results in most homogeneous sub-nodes.\n",
        "\n",
        "Let’s look at the two most commonly used algorithms in decision tree:\n",
        "\n",
        "#### Gini:\n",
        "\n",
        "Gini  says, if we select two items from a population at random then they must be of same class and probability for this is 1 if population is pure.\n",
        "Steps to Calculate Gini for a split\n",
        "\n",
        "    Calculate Gini for sub-nodes, using formula sum of square of probability for success and failure (p^2+q^2).\n",
        "    Calculate Gini for split using weighted Gini score of each node of that split\n",
        "\n",
        "Example: – Referring to example used above, where we want to segregate the students based on target variable ( playing cricket or not ).\n",
        "\n",
        "Split on Gender:\n",
        "\n",
        "    Calculate, Gini for sub-node Female = (0.2)*(0.2)+(0.8)*(0.8)=0.68\n",
        "    Gini for sub-node Male = (0.65)*(0.65)+(0.35)*(0.35)=0.55\n",
        "    Calculate weighted Gini for Split Gender = (10/30)*0.68+(20/30)*0.55 = 0.59\n",
        "\n",
        "Similar for Split on Class:\n",
        "\n",
        "    Gini for sub-node Class IX = (0.43)*(0.43)+(0.57)*(0.57)=0.51\n",
        "    Gini for sub-node Class X = (0.56)*(0.56)+(0.44)*(0.44)=0.51\n",
        "    Calculate weighted Gini for Split Class = (14/30)*0.51+(16/30)*0.51 = 0.51\n",
        "\n",
        "Above, you can see that Gini score for Split on Gender is higher than Split on Class, hence, the node split will take place on Gender.\n",
        "\n",
        "#### Information Gain:\n",
        "\n",
        "Information gain can be understood as decrease in “uncertainty” of the result.\n",
        "\n",
        "Information theory is a measure to define this degree of disorganization in a system known as Entropy. If the sample is completely homogeneous, then the entropy is zero and if the sample is an equally divided (50% – 50%), it has entropy of one.\n",
        "\n",
        "Here p and q is probability of success and failure respectively in that node. Entropy is also used with categorical target variable. It chooses the split which has lowest entropy compared to parent node and other splits. The lesser the entropy, the better it is.\n",
        "\n",
        "Steps to calculate entropy for a split:\n",
        "\n",
        "    Calculate entropy of parent node\n",
        "    Calculate entropy of each individual node of split and calculate weighted average of all sub-nodes available in split.\n",
        "\n",
        "Example: Let’s use this method to identify best split for student example.\n",
        "\n",
        "    Entropy for parent node = -(15/30) log2 (15/30) – (15/30) log2 (15/30) = 1. Here 1 shows that it is a impure node.\n",
        "    Entropy for Female node = -(2/10) log2 (2/10) – (8/10) log2 (8/10) = 0.72 and for male node,  -(13/20) log2 (13/20) – (7/20) log2 (7/20) = 0.93\n",
        "    Entropy for split Gender = Weighted entropy of sub-nodes = (10/30)*0.72 + (20/30)*0.93 = 0.86\n",
        "    Entropy for Class IX node, -(6/14) log2 (6/14) – (8/14) log2 (8/14) = 0.99 and for Class X node,  -(9/16) log2 (9/16) – (7/16) log2 (7/16) = 0.99.\n",
        "    Entropy for split Class =  (14/30)*0.99 + (16/30)*0.99 = 0.99\n",
        "\n",
        "Above, you can see that entropy for Split on Gender is the lowest among all, so the tree will split on Gender. We can derive information gain from entropy as 1- Entropy."
      ],
      "metadata": {
        "id": "0UVzkQfEIRa_"
      }
    },
    {
      "cell_type": "markdown",
      "source": [
        "## Visualize Decision Tree"
      ],
      "metadata": {
        "id": "PJH4hs_8IRa_"
      }
    },
    {
      "cell_type": "code",
      "source": [
        "# Visualize Decision Tree\n",
        "from sklearn import tree\n",
        "from sklearn.tree import export_graphviz\n",
        "from IPython.display import Image\n",
        "\n",
        "feature_names = [i for i in X_train_f.columns]\n",
        "\n",
        "y_train_str = y_train.astype('str')\n",
        "y_train_str[y_train_str == 1] = \"1\"\n",
        "y_train_str[y_train_str == 0] =\"0\"\n",
        "y_train_str = y_train_str.values\n",
        "\n",
        "model_1 = tree.DecisionTreeClassifier(criterion='gini', max_depth= 13, max_features= 2, min_samples_leaf= 2)\n",
        "model_1.fit(X_train_f, y_train)\n",
        "\n",
        "from sklearn.externals.six import StringIO\n",
        "# Let's give dot_data some space so it will not feel nervous any more\n",
        "dot_data = StringIO()\n",
        "tree.export_graphviz(model_1, out_file=dot_data,filled=True)\n",
        "import pydotplus\n",
        "\n",
        "graph = pydotplus.graphviz.graph_from_dot_data(dot_data.getvalue())\n",
        "# make sure you have graphviz installed and set in path\n",
        "Image(graph.create_png())"
      ],
      "metadata": {
        "trusted": true,
        "id": "wPoY6dfEIRa_"
      },
      "execution_count": null,
      "outputs": []
    },
    {
      "cell_type": "code",
      "source": [
        "cf_matrix = confusion_matrix(y_test, Prediction_CART)\n",
        "sns.heatmap(pd.DataFrame(cf_matrix), annot=True, cmap=\"YlGnBu\" ,fmt='g')\n",
        "plt.tight_layout()\n",
        "plt.title('Confusion matrix', y=1.1)\n",
        "plt.ylabel('Actual label')\n",
        "plt.xlabel('Predicted label')\n",
        "plt.show()\n",
        "\n",
        "print(\"Accuracy:\",metrics.accuracy_score(y_test, Prediction_CART))\n",
        "print(\"Precision:\",metrics.precision_score(y_test, Prediction_CART))\n",
        "print(\"Recall:\",metrics.recall_score(y_test, Prediction_CART))\n",
        "print(\"F1 score:\",metrics.f1_score(y_test, Prediction_CART))\n",
        "print(\"AUC :\",metrics.roc_auc_score(y_test, Prediction_CART))\n",
        "\n",
        "fpr, tpr, _ = metrics.roc_curve(y_test,  Prediction_CART)\n",
        "auc = metrics.roc_auc_score(y_test, Prediction_CART)\n",
        "plt.plot(fpr,tpr,label=\"data 1, auc=\"+str(auc))\n",
        "plt.legend(loc=4)\n",
        "plt.plot([0, 1], [0, 1],'r--')\n",
        "plt.xlabel('False Positive Rate')\n",
        "plt.ylabel('True Positive Rate')\n",
        "plt.title('Receiver operating characteristic')\n",
        "plt.show()"
      ],
      "metadata": {
        "trusted": true,
        "id": "lXKKN-JJIRa_"
      },
      "execution_count": null,
      "outputs": []
    },
    {
      "cell_type": "markdown",
      "source": [
        "# 6.6 Ensemble methods\n",
        "\n",
        "**What is an ensemble method?**\n",
        "\n",
        "Ensemble is a Machine Learning concept in which the idea is to train multiple models using the same learning algorithm. The ensembles take part in a bigger group of methods, called multiclassifiers, where a set of hundreds or thousands of learners with a common objective are fused together to solve the problem.\n",
        "When we try to predict the target variable using any machine learning technique, the main causes of difference in actual and predicted values are noise, variance, and bias. Ensemble helps to reduce these factors (except noise, which is irreducible error).\n",
        "\n",
        "**Techniques to perform ensemble decision trees:**\n",
        "\n",
        "**1. Bagging**\n",
        "\n",
        "Bagging is used when the goal is to reduce the variance of a decision tree classifier. Here the objective is to create several subsets of data from training sample chosen randomly with replacement. Each collection of subset data is used to train their decision trees. As a result, we get an ensemble of different models. Average of all the predictions from different trees are used which is more robust than a single decision tree classifier.\n",
        "\n",
        "Bagging Steps:\n",
        "\n",
        "    Suppose there are N observations and M features in training data set. A sample from training data set is taken randomly with replacement.\n",
        "    A subset of M features are selected randomly and whichever feature gives the best split is used to split the node iteratively.\n",
        "    The tree is grown to the largest.\n",
        "    Above steps are repeated n times and prediction is given based on the aggregation of predictions from n number of trees.\n",
        "\n",
        "Advantages:\n",
        "\n",
        "    Reduces over-fitting of the model.\n",
        "    Handles higher dimensionality data very well.\n",
        "    Maintains accuracy for missing data.\n",
        "\n",
        "Disadvantages:\n",
        "\n",
        "    Since final prediction is based on the mean predictions from subset trees, it won’t give precise values for the classification and regression model.\n",
        "\n",
        "**2. Boosting**\n",
        "\n",
        "Boosting is used to create a collection of predictors. In this technique, learners are learned sequentially with early learners fitting simple models to the data and then analysing data for errors. Consecutive trees (random sample) are fit and at every step, the goal is to improve the accuracy from the prior tree. When an input is misclassified by a hypothesis, its weight is increased so that next hypothesis is more likely to classify it correctly. This process converts weak learners into better performing model.\n",
        "\n",
        "Boosting Steps:\n",
        "\n",
        "    Draw a random subset of training samples d1 without replacement from the training set D to train a weak learner C1\n",
        "    Draw second random training subset d2 without replacement from the training set and add 50 percent of the samples that were previously falsely classified/misclassified to train a weak learner C2\n",
        "    Find the training samples d3 in the training set D on which C1 and C2 disagree to train a third weak learner C3\n",
        "    Combine all the weak learners via majority voting.\n",
        "\n",
        "Advantages:\n",
        "\n",
        "    Supports different loss function (we have used ‘binary:logistic’ for this example).\n",
        "    Works well with interactions.\n",
        "\n",
        "Disadvantages:\n",
        "\n",
        "    Prone to over-fitting.\n",
        "    Requires careful tuning of different hyper-parameters.\n",
        "\n",
        "*     Bagging to decrease the model’s variance;\n",
        "*     Boosting to decreasing the model’s bias, and;\n",
        "*     Stacking to increasing the predictive force of the classifier."
      ],
      "metadata": {
        "id": "7SRFFjgsIRa_"
      }
    },
    {
      "cell_type": "markdown",
      "source": [
        "## 6.6.1 Bagging"
      ],
      "metadata": {
        "id": "TjNqZi13IRbA"
      }
    },
    {
      "cell_type": "markdown",
      "source": [
        "# 6.6.1.1 Random Forest\n"
      ],
      "metadata": {
        "id": "4N-x1tHxIRbA"
      }
    },
    {
      "cell_type": "code",
      "source": [
        "%%time\n",
        "param_grid = [\n",
        "{'n_estimators': [10, 25,30], 'max_features': ['auto', 'sqrt', 'log2', None],\n",
        " 'max_depth': [10, 20, None], 'bootstrap': [True, False]}\n",
        "]\n",
        "\n",
        "rf = RandomForestClassifier()\n",
        "\n",
        "rf_GridSearch = GridSearch(X_train, y_train, rf ,param_grid )\n",
        "y_pred = rf_GridSearch.Best_Model_Predict(X_test)"
      ],
      "metadata": {
        "trusted": true,
        "id": "Oxjw6Y2DIRbA"
      },
      "execution_count": null,
      "outputs": []
    },
    {
      "cell_type": "code",
      "source": [
        "cf_matrix = confusion_matrix(y_test, y_pred)\n",
        "sns.heatmap(pd.DataFrame(cf_matrix), annot=True, cmap=\"YlGnBu\" ,fmt='g')\n",
        "plt.tight_layout()\n",
        "plt.title('Confusion matrix', y=1.1)\n",
        "plt.ylabel('Actual label')\n",
        "plt.xlabel('Predicted label')\n",
        "plt.show()\n",
        "\n",
        "print(\"Accuracy:\",metrics.accuracy_score(y_test, y_pred))\n",
        "print(\"Precision:\",metrics.precision_score(y_test, y_pred))\n",
        "print(\"Recall:\",metrics.recall_score(y_test, y_pred))\n",
        "print(\"F1 score:\",metrics.f1_score(y_test, y_pred))\n",
        "print(\"AUC :\",metrics.roc_auc_score(y_test, y_pred))\n",
        "\n",
        "fpr, tpr, _ = metrics.roc_curve(y_test,  y_pred)\n",
        "auc = metrics.roc_auc_score(y_test, y_pred)\n",
        "plt.plot(fpr,tpr,label=\"data 1, auc=\"+str(auc))\n",
        "plt.legend(loc=4)\n",
        "plt.plot([0, 1], [0, 1],'r--')\n",
        "plt.xlabel('False Positive Rate')\n",
        "plt.ylabel('True Positive Rate')\n",
        "plt.title('Receiver operating characteristic')\n",
        "plt.show()"
      ],
      "metadata": {
        "trusted": true,
        "id": "gi924VpeIRbA"
      },
      "execution_count": null,
      "outputs": []
    },
    {
      "cell_type": "markdown",
      "source": [
        "**Set of hyperparameters:**\n",
        "\n",
        "*     n_estimators = number of trees in the foreset\n",
        "*     max_features = max number of features considered for splitting a node\n",
        "*     max_depth = max number of levels in each decision tree\n",
        "*     bootstrap = method for sampling data points (with or without replacement)\n",
        "\n",
        "\n",
        "**max_features:**\n",
        "\n",
        "These are the maximum number of features Random Forest is allowed to try in individual tree.\n",
        "\n",
        "1)Auto : This will simply take all the features which make sense in every tree.Here we simply do not put any restrictions on the individual tree.\n",
        "\n",
        "2)sqrt : This option will take square root of the total number of features in individual run. For instance, if the total number of variables are 100, we can only take 10 of them in individual tree.\n",
        "\n",
        "3)log2:It is another option which takes log to the base 2 of the features input.\n",
        "\n",
        "Increasing max_features generally improves the performance of the model as at each node now we have a higher number of options to be considered.But, for sure, you decrease the speed of algorithm by increasing the max_features. Hence, you need to strike the right balance and choose the optimal max_features.\n",
        "\n",
        "**n_estimators :**\n",
        "\n",
        "This is the number of trees you want to build before taking the maximum voting or averages of predictions. Higher number of trees give you better performance but makes your code slower. You should choose as high value as your processor can handle because this makes your predictions stronger and more stable.\n",
        "\n",
        "**min_sample_leaf:**\n",
        "\n",
        "Leaf is the end node of a decision tree. A smaller leaf makes the model more prone to capturing noise in train data. Hence it is important to try different values to get good estimate."
      ],
      "metadata": {
        "id": "frXs7BP_IRbA"
      }
    },
    {
      "cell_type": "code",
      "source": [
        "%%time\n",
        "param_grid = [\n",
        "{'n_estimators': [10, 25,30], 'max_features': ['auto', 'sqrt', 'log2', None],\n",
        " 'max_depth': [10, 20, None], 'bootstrap': [True, False]}\n",
        "]\n",
        "\n",
        "rf = RandomForestClassifier()\n",
        "\n",
        "rf_GridSearch = GridSearch(X_train_ef, y_train, rf ,param_grid )\n",
        "y_pred = rf_GridSearch.Best_Model_Predict(X_test_ef)"
      ],
      "metadata": {
        "trusted": true,
        "id": "Ea9PqgwVIRbA"
      },
      "execution_count": null,
      "outputs": []
    },
    {
      "cell_type": "code",
      "source": [
        "cf_matrix = confusion_matrix(y_test, y_pred)\n",
        "sns.heatmap(pd.DataFrame(cf_matrix), annot=True, cmap=\"YlGnBu\" ,fmt='g')\n",
        "plt.tight_layout()\n",
        "plt.title('Confusion matrix', y=1.1)\n",
        "plt.ylabel('Actual label')\n",
        "plt.xlabel('Predicted label')\n",
        "plt.show()\n",
        "\n",
        "print(\"Accuracy:\",metrics.accuracy_score(y_test, y_pred))\n",
        "print(\"Precision:\",metrics.precision_score(y_test, y_pred))\n",
        "print(\"Recall:\",metrics.recall_score(y_test, y_pred))\n",
        "print(\"F1 score:\",metrics.f1_score(y_test, y_pred))\n",
        "print(\"AUC :\",metrics.roc_auc_score(y_test, y_pred))\n",
        "\n",
        "fpr, tpr, _ = metrics.roc_curve(y_test,  y_pred)\n",
        "auc = metrics.roc_auc_score(y_test, y_pred)\n",
        "plt.plot(fpr,tpr,label=\"data 1, auc=\"+str(auc))\n",
        "plt.legend(loc=4)\n",
        "plt.plot([0, 1], [0, 1],'r--')\n",
        "plt.xlabel('False Positive Rate')\n",
        "plt.ylabel('True Positive Rate')\n",
        "plt.title('Receiver operating characteristic')\n",
        "plt.show()"
      ],
      "metadata": {
        "trusted": true,
        "id": "jypAHGtIIRbA"
      },
      "execution_count": null,
      "outputs": []
    },
    {
      "cell_type": "markdown",
      "source": [
        "## 6.6.2 Boosting"
      ],
      "metadata": {
        "id": "4GiM8cwUIRbA"
      }
    },
    {
      "cell_type": "markdown",
      "source": [
        "# 6.6.2.1 GradientBoosting\n",
        "\n",
        "A special case of boosting where errors are minimized by gradient descent algorithm e.g. the strategy consulting firms leverage by using case interviews to weed out less qualified candidates."
      ],
      "metadata": {
        "id": "EWtbRF7aIRbA"
      }
    },
    {
      "cell_type": "code",
      "source": [
        "%%time\n",
        "learning_rate_ = [.01,.05,.1,.5,1]\n",
        "n_estimators_ = [50,100,150,200,250,300]\n",
        "\n",
        "param_grid = dict(learning_rate=learning_rate_, n_estimators=n_estimators_)\n",
        "\n",
        "GB = GradientBoostingClassifier()\n",
        "\n",
        "GB_GridSearch = RandomSearch(X_train, y_train, GB, param_grid)\n"
      ],
      "metadata": {
        "trusted": true,
        "id": "qxrL5gc1IRbA"
      },
      "execution_count": null,
      "outputs": []
    },
    {
      "cell_type": "code",
      "source": [
        "Prediction_GB = GB_GridSearch.Best_Model_Predict(X_test)"
      ],
      "metadata": {
        "trusted": true,
        "id": "umchR-xhIRbA"
      },
      "execution_count": null,
      "outputs": []
    },
    {
      "cell_type": "code",
      "source": [
        "from xgboost import XGBClassifier\n",
        "%%time\n",
        "learning_rate_ = [.01,.05,.1,.5,1]\n",
        "n_estimators_ = [50,100,150,200,250,300]\n",
        "\n",
        "param_grid = dict(learning_rate=learning_rate_, n_estimators=n_estimators_,n_jobs=-1)\n",
        "\n",
        "GB =  XGBClassifier()\n",
        "\n",
        "GB_GridSearch = RandomSearch(X_train, y_train, GB, param_grid)\n",
        "Prediction_GB = GB_GridSearch.Best_Model_Predict(X_test)"
      ],
      "metadata": {
        "trusted": true,
        "id": "awPhcd6OIRbA"
      },
      "execution_count": null,
      "outputs": []
    },
    {
      "cell_type": "code",
      "source": [
        "cf_matrix = confusion_matrix(y_test, Prediction_GB)\n",
        "sns.heatmap(pd.DataFrame(cf_matrix), annot=True, cmap=\"YlGnBu\" ,fmt='g')\n",
        "plt.tight_layout()\n",
        "plt.title('Confusion matrix', y=1.1)\n",
        "plt.ylabel('Actual label')\n",
        "plt.xlabel('Predicted label')\n",
        "plt.show()\n",
        "\n",
        "print(\"Accuracy:\",metrics.accuracy_score(y_test, Prediction_GB))\n",
        "print(\"Precision:\",metrics.precision_score(y_test, Prediction_GB))\n",
        "print(\"Recall:\",metrics.recall_score(y_test, Prediction_GB))\n",
        "print(\"F1 score:\",metrics.f1_score(y_test, Prediction_GB))\n",
        "print(\"AUC :\",metrics.roc_auc_score(y_test, Prediction_GB))\n",
        "\n",
        "\n",
        "fpr, tpr, _ = metrics.roc_curve(y_test,  Prediction_GB)\n",
        "auc = metrics.roc_auc_score(y_test, Prediction_GB)\n",
        "plt.plot(fpr,tpr,label=\"data 1, auc=\"+str(auc))\n",
        "plt.legend(loc=4)\n",
        "plt.plot([0, 1], [0, 1],'r--')\n",
        "plt.xlabel('False Positive Rate')\n",
        "plt.ylabel('True Positive Rate')\n",
        "plt.title('Receiver operating characteristic')\n",
        "plt.show()\n",
        "#.712"
      ],
      "metadata": {
        "trusted": true,
        "id": "pCbOI-VyIRbA"
      },
      "execution_count": null,
      "outputs": []
    },
    {
      "cell_type": "markdown",
      "source": [
        "# 7. Neural Network\n",
        "\n",
        "**The Sequential model is a linear stack of layers.**\n",
        "\n",
        "**Specifying the input shape**\n",
        "\n",
        "    The model needs to know what input shape it should expect. For this reason, the first layer in a Sequential model (and only the first, because following layers can do automatic shape inference) needs to receive information about its input shape.\n",
        "    \n",
        "**Compilation**\n",
        "\n",
        "Before training a model, we need to configure the learning process, which is done via the compile method. It receives three arguments:\n",
        "\n",
        "    An optimizer.\n",
        "    This could be the string identifier of an existing optimizer (such as rmsprop , adam or adagrad).\n",
        "    \n",
        "    A loss function.\n",
        "    This is the objective that the model will try to minimize. It can be the string identifier of an existing loss function (such as categorical_crossentropy or mse), or it can be an objective function.\n",
        "    \n",
        "    A list of metrics.\n",
        "    For any classification problem you will want to set this to metrics=['accuracy']. A metric could be the string identifier of an existing metric or a custom metric function.\n",
        "\n",
        "**Training**\n",
        "\n",
        "    Keras models are trained on Numpy arrays of input data and labels. For training a model,we will use the fit function."
      ],
      "metadata": {
        "id": "bhZeUIYkIRbB"
      }
    },
    {
      "cell_type": "code",
      "source": [
        "%%time\n",
        "import keras\n",
        "from keras.models import Sequential\n",
        "from keras.layers import Dense\n",
        "\n",
        "model = Sequential()\n",
        "\n",
        "# Adding the input layer and the first hidden layer\n",
        "model.add(Dense(output_dim = 16, activation = 'relu', input_dim = 45))\n",
        "# Adding the second hidden layer\n",
        "model.add(Dense(output_dim = 8,  activation = 'relu'))\n",
        "\n",
        "# Adding the output layer\n",
        "model.add(Dense(output_dim = 1, activation = 'sigmoid'))\n",
        "\n",
        "model.compile(optimizer = 'adam', loss = 'binary_crossentropy', metrics = ['accuracy'])\n",
        "\n",
        "model.fit(X_train, y_train, batch_size = 10, nb_epoch = 100)\n",
        "\n",
        "y_pred1 = model.predict(X_test)\n",
        "y_pred1 = (y_pred1 > 0.5)\n",
        "\n"
      ],
      "metadata": {
        "trusted": true,
        "id": "y4YnW5oPIRbB"
      },
      "execution_count": null,
      "outputs": []
    },
    {
      "cell_type": "code",
      "source": [
        "cf_matrix = confusion_matrix(y_test, y_pred1)\n",
        "sns.heatmap(pd.DataFrame(cf_matrix), annot=True, cmap=\"YlGnBu\" ,fmt='g')\n",
        "plt.tight_layout()\n",
        "plt.title('Confusion matrix', y=1.1)\n",
        "plt.ylabel('Actual label')\n",
        "plt.xlabel('Predicted label')\n",
        "plt.show()\n",
        "\n",
        "print(\"Accuracy:\",metrics.accuracy_score(y_test, y_pred1))\n",
        "print(\"Precision:\",metrics.precision_score(y_test, y_pred1))\n",
        "print(\"Recall:\",metrics.recall_score(y_test, y_pred1))\n",
        "print(\"F1 score:\",metrics.f1_score(y_test, y_pred1))\n",
        "print(\"AUC :\",metrics.roc_auc_score(y_test, y_pred1))\n",
        "\n",
        "\n",
        "fpr, tpr, _ = metrics.roc_curve(y_test,  y_pred1)\n",
        "auc = metrics.roc_auc_score(y_test, y_pred1)\n",
        "plt.plot(fpr,tpr,label=\"data 1, auc=\"+str(auc))\n",
        "plt.legend(loc=4)\n",
        "plt.plot([0, 1], [0, 1],'r--')\n",
        "plt.xlabel('False Positive Rate')\n",
        "plt.ylabel('True Positive Rate')\n",
        "plt.title('Receiver operating characteristic')\n",
        "plt.show()"
      ],
      "metadata": {
        "trusted": true,
        "id": "L9iOpZZgIRbB"
      },
      "execution_count": null,
      "outputs": []
    },
    {
      "cell_type": "code",
      "source": [
        "\n",
        "m = {\n",
        "\"GradientBoosting\" : {\n",
        "    \"Accuracy\": 0.8280,\n",
        "    \"Precision\": 0.84150,\n",
        "    \"Recall\": 0.8063,\n",
        "    \"F1 score\": 0.82352,\n",
        "    \"AUC\" : 0.82795,\n",
        "    \"RunTime(sec)\" : 481\n",
        "    },\n",
        "\"Random Forest\" : {\n",
        "    \"Accuracy\": 0.82064,\n",
        "    \"Precision\": 0.86139,\n",
        "    \"Recall\": 0.76217,\n",
        "    \"F1 score\": 0.80875,\n",
        "    \"AUC\" : 0.8203,\n",
        "    \"RunTime(sec)\" : 59.4\n",
        "    },\n",
        "\"LDA\" : {\n",
        "    \"Accuracy\": 0.8001,\n",
        "    \"Precision\": 0.8307,\n",
        "    \"Recall\": 0.7512,\n",
        "    \"F1 score\": 0.7890,\n",
        "    \"AUC\" : 0.7998,\n",
        "    \"RunTime(sec)\" : 1.2\n",
        "    },\n",
        "\"Decision Tree\" : {\n",
        "    \"Accuracy\": 0.7992,\n",
        "    \"Precision\": 0.8607,\n",
        "    \"Recall\": 0.7117,\n",
        "    \"F1 score\": 0.7791,\n",
        "    \"AUC\" : 0.7988,\n",
        "    \"RunTime(sec)\" : 2.1\n",
        "    },\n",
        "\"SVM\" : {\n",
        "    \"Accuracy\": 0.8066,\n",
        "    \"Precision\": 0.8592,\n",
        "    \"Recall\": 0.7312,\n",
        "    \"F1 score\": 0.7900,\n",
        "    \"AUC\" : 0.8063,\n",
        "    \"RunTime(sec)\" : 500.4\n",
        "    },\n",
        "\"KNN\" : {\n",
        "    \"Accuracy\": 0.7924,\n",
        "    \"Precision\": 0.8212,\n",
        "    \"Recall\": 0.74498,\n",
        "    \"F1 score\": 0.7812,\n",
        "    \"AUC\" : 0.7921,\n",
        "    \"RunTime(sec)\" : 144.1\n",
        "    },\n",
        "\"LR(ET)\" : {\n",
        "    \"Accuracy\": 0.8069,\n",
        "    \"Precision\": 0.8156,\n",
        "    \"Recall\": 0.7908,\n",
        "    \"F1 score\": 0.8030,\n",
        "    \"AUC\" : 0.80687,\n",
        "    \"RunTime(sec)\" : .688\n",
        "    },\n",
        "\"LR(PCA)\" : {\n",
        "    \"Accuracy\": 0.7866,\n",
        "    \"Precision\": 0.8162,\n",
        "    \"Recall\": 0.7492,\n",
        "    \"F1 score\": 0.7813,\n",
        "    \"AUC\" : 0.7872,\n",
        "    \"RunTime(sec)\" : .433\n",
        "    },\n",
        "\"LR(REF)\" : {\n",
        "    \"Accuracy\": 0.7984,\n",
        "    \"Precision\": 0.8409,\n",
        "    \"Recall\": 0.7335,\n",
        "    \"F1 score\":0.7835,\n",
        "    \"AUC\" : 0.7980,\n",
        "    \"RunTime(sec)\" : 1.7\n",
        "    },\n",
        "\"LR(GridSearch)\" : {\n",
        "    \"Accuracy\": 0.81636,\n",
        "    \"Precision\": 0.8270,\n",
        "    \"Recall\": 0.7977,\n",
        "    \"F1 score\": 0.8121,\n",
        "    \"AUC\" : 0.8162,\n",
        "    \"RunTime(sec)\" : 23.8\n",
        "    },\n",
        "\"LR(RandomSearch)\":{\n",
        "    \"Accuracy\": 0.8120,\n",
        "    \"Precision\": 0.8302,\n",
        "    \"Recall\": 0.7822,\n",
        "    \"F1 score\": 0.8055,\n",
        "    \"AUC\" : 0.8119,\n",
        "    \"RunTime(sec)\" : 4.9\n",
        "    },\n",
        "\"Neural Network\" : {\n",
        "    \"Accuracy\": 0.8157,\n",
        "    \"Precision\": 0.8466,\n",
        "    \"Recall\": 0.76905,\n",
        "    \"F1 score\": 0.7707,\n",
        "    \"AUC\" : 0.8155,\n",
        "    \"RunTime(sec)\" : 120\n",
        "    },\n",
        "}\n",
        "df = pd.DataFrame(m)\n",
        "df.T\n"
      ],
      "metadata": {
        "trusted": true,
        "id": "hyXHxYwFIRbB"
      },
      "execution_count": null,
      "outputs": []
    },
    {
      "cell_type": "markdown",
      "source": [
        "# Summary\n",
        "\n",
        "I have choosen two performance criterion for models:\n",
        "1. Model Accuracy\n",
        "2. Run time\n",
        "\n",
        "#### 1. Model Accuracy\n",
        "\n",
        "**GradientBoosting** outperform all the models if we take accuracy under consideration.It has 82.7% accuracy. But it takes nearly 481 sec (8 min) to pick the hyperparameters, train the model and predict the output.\n",
        "\n",
        "There is another way to reduce the runtime by a factor of 8 without losing much accuracy if we use Random Forest for modelling.\n",
        "**Random Forest** has accuracy 82% but it has nearly 1 min runtime.\n",
        "\n",
        "#### 2. Run time\n",
        "\n",
        "In case if our focus is on runtime then **Logistic Regression** has runtime 4.9 sec with accuracy 81.1%.\n",
        "\n",
        "But if we want lowest runtime, we have to diminishing the accuracy. In that case **LDA** is the best choice with nearly 80% accuracy and 1.2 sec of runtime."
      ],
      "metadata": {
        "id": "6DrxmCYoIRbB"
      }
    },
    {
      "cell_type": "markdown",
      "source": [
        "**The results obtained above can be used as a standard point of reference for other comparative studies done in the field of predicting values from census data. This comparative study can further be used as a basis for improving the present classifiers and techniques resulting in making better technologies for accurately predicting income level of an individual.**"
      ],
      "metadata": {
        "id": "YzPEylg0IRbB"
      }
    },
    {
      "cell_type": "code",
      "source": [],
      "metadata": {
        "tags": [
          "{",
          "\"tags\":",
          "[",
          "\"hide_input\"",
          "]",
          "}"
        ],
        "trusted": true,
        "id": "w8kRw5MUIRbB"
      },
      "execution_count": null,
      "outputs": []
    },
    {
      "cell_type": "code",
      "source": [],
      "metadata": {
        "trusted": true,
        "id": "sLru9jybIRbB"
      },
      "execution_count": null,
      "outputs": []
    }
  ]
}